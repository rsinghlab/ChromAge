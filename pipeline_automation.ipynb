{
 "cells": [
  {
   "cell_type": "code",
   "execution_count": 1,
   "id": "2c96efb5-7ec5-4d13-8ffc-3bc0a9894416",
   "metadata": {},
   "outputs": [],
   "source": [
    "#required packages\n",
    "from pprint import pprint\n",
    "import bioblend.galaxy"
   ]
  },
  {
   "cell_type": "code",
   "execution_count": 2,
   "id": "d56354bb-1974-4aea-a7c2-61cba874090b",
   "metadata": {},
   "outputs": [],
   "source": [
    "# connect to Galaxy server\n",
    "server = 'https://usegalaxy.org/'\n",
    "api_key = '680642b4fd697b058c9376076c6d9ef4'\n",
    "gi = bioblend.galaxy.GalaxyInstance(url=server, key=api_key)"
   ]
  },
  {
   "cell_type": "code",
   "execution_count": 3,
   "id": "5cee1be3-b382-40f6-adb8-302406ad44ff",
   "metadata": {},
   "outputs": [],
   "source": [
    "# create new Galaxy History\n",
    "history = gi.histories.create_history(name='H3K4me3')"
   ]
  },
  {
   "cell_type": "code",
   "execution_count": 136,
   "id": "139f213b-dee6-44a6-a13c-3a231f49a271",
   "metadata": {},
   "outputs": [],
   "source": [
    "histone_accession_codes = gi.tools.upload_file(\"histone_example.txt\", history['id'])\n",
    "input_accession_codes = gi.tools.upload_file(\"input_example.txt\", history['id'])"
   ]
  },
  {
   "cell_type": "code",
   "execution_count": 137,
   "id": "88c9bf33-2cda-4297-a239-75f17ed85a4a",
   "metadata": {},
   "outputs": [],
   "source": [
    "histone_hda = histone_accession_codes['outputs'][0]\n",
    "input_hda = input_accession_codes['outputs'][0]"
   ]
  },
  {
   "cell_type": "code",
   "execution_count": 138,
   "id": "ff1e69d9-faea-4705-85b5-b23837a601ff",
   "metadata": {},
   "outputs": [],
   "source": [
    "pipeline_read_mode = 'ChromAge Pipeline PE'\n",
    "wfs = gi.workflows.get_workflows()\n",
    "for i in range(len(wfs)):\n",
    "    if wfs[i]['name'][-2:] == pipeline_read_mode:\n",
    "        wf = wfs[i]\n",
    "wf = gi.workflows.show_workflow(wf['id'])"
   ]
  },
  {
   "cell_type": "code",
   "execution_count": 139,
   "id": "244c8f7d-2fa4-4373-a13a-660cb8c60acd",
   "metadata": {},
   "outputs": [
    {
     "name": "stdout",
     "output_type": "stream",
     "text": [
      "{'create_time': '2021-09-12T19:49:50.353295',\n",
      " 'history_id': 'd8c472d6235aa5fc',\n",
      " 'id': '2210b01bcae67d46',\n",
      " 'model_class': 'WorkflowInvocation',\n",
      " 'state': 'new',\n",
      " 'update_time': '2021-09-12T19:49:50.353302',\n",
      " 'uuid': '975ac616-1402-11ec-be5c-005056ba55fb',\n",
      " 'workflow_id': 'c010746a1ff8cf59'}\n"
     ]
    }
   ],
   "source": [
    "inputs = {'0': {'id': histone_hda['id'], 'src': 'hda'},\n",
    "          '1': {'id': input_hda['id'], 'src': 'hda'}}\n",
    "workflow_invocation = gi.workflows.invoke_workflow(wf['id'], inputs=inputs, history_id=history['id'])\n",
    "pprint(workflow_invocation)"
   ]
  },
  {
   "cell_type": "code",
   "execution_count": null,
   "id": "7129b0b3-a2b6-4ab6-b9be-22f13092546a",
   "metadata": {},
   "outputs": [],
   "source": []
  }
 ],
 "metadata": {
  "kernelspec": {
   "display_name": "Python 3 (ipykernel)",
   "language": "python",
   "name": "python3"
  },
  "language_info": {
   "codemirror_mode": {
    "name": "ipython",
    "version": 3
   },
   "file_extension": ".py",
   "mimetype": "text/x-python",
   "name": "python",
   "nbconvert_exporter": "python",
   "pygments_lexer": "ipython3",
   "version": "3.9.4"
  }
 },
 "nbformat": 4,
 "nbformat_minor": 5
}

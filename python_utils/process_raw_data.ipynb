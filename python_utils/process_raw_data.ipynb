{
 "cells": [
  {
   "cell_type": "markdown",
   "id": "08bb3fc1-2449-474f-9df0-86557b36ebdb",
   "metadata": {},
   "source": [
    "# Compress histone ChIP-seq bigWig into usable file format"
   ]
  },
  {
   "cell_type": "markdown",
   "id": "4119ec37-da56-439f-83da-5a3f8e253e3e",
   "metadata": {},
   "source": [
    "This script converts teh bigWig files into smaller histone_data objects that can conduct feature selection (or rather augmentation) of histone modification data by greedy evolutionary increase in resolution."
   ]
  },
  {
   "cell_type": "markdown",
   "id": "7c64b2bc-3cbb-492a-baea-a26bc9d9e39d",
   "metadata": {},
   "source": [
    "### Setup"
   ]
  },
  {
   "cell_type": "code",
   "execution_count": 1,
   "id": "7a944074-0591-48d2-a821-50e199ff7c01",
   "metadata": {
    "tags": []
   },
   "outputs": [],
   "source": [
    "#load required packages\n",
    "import pyBigWig\n",
    "import numpy as np\n",
    "import warnings\n",
    "warnings.simplefilter(action='ignore', category=FutureWarning)\n",
    "import pandas as pd\n",
    "from os import listdir\n",
    "from os.path import isfile, join\n",
    "from IPython.display import clear_output\n",
    "from progressbar import ProgressBar, Bar, Percentage, AnimatedMarker, AdaptiveETA\n",
    "import re\n",
    "import math\n",
    "import pickle\n",
    "from scipy.stats import lognorm\n",
    "from gtfparse import read_gtf\n",
    "import gc"
   ]
  },
  {
   "cell_type": "code",
   "execution_count": 2,
   "id": "4e76da6b-3220-4573-986f-893fa1896418",
   "metadata": {},
   "outputs": [],
   "source": [
    "#hg38 numbers\n",
    "chrom_info_hg38 = {\n",
    "    'chr1':248956422,\n",
    "    'chr2':242193529,\n",
    "    'chr3':198295559,\n",
    "    'chr4':190214555,\n",
    "    'chr5':181538259,\n",
    "    'chr6':170805979,\n",
    "    'chr7':159345973,\n",
    "    'chr8':145138636,\n",
    "    'chr9':138394717,\n",
    "    'chr10':133797422,\n",
    "    'chr11':135086622,\n",
    "    'chr12':133275309,\n",
    "    'chr13':114364328,\n",
    "    'chr14':107043718,\n",
    "    'chr15':101991189,\n",
    "    'chr16':90338345,\n",
    "    'chr17':83257441,\n",
    "    'chr18':80373285,\n",
    "    'chr19':58617616,\n",
    "    'chr20':64444167,\n",
    "    'chr21':46709983,\n",
    "    'chr22':50818468,\n",
    "    'chrX':156040895\n",
    "}"
   ]
  },
  {
   "cell_type": "code",
   "execution_count": 3,
   "id": "1162ccbd-0890-4ac5-b73d-96fd1dd4b500",
   "metadata": {},
   "outputs": [],
   "source": [
    "#mm10 numbers\n",
    "chrom_info_mm10 = {\n",
    "    'chr1':195471971,\n",
    "    'chr2':82113224,\n",
    "    'chr3':160039680,\n",
    "    'chr4':156508116,\n",
    "    'chr5':151834684,\n",
    "    'chr6':149736546,\n",
    "    'chr7':145441459,\n",
    "    'chr8':129401213,\n",
    "    'chr9':124595110,\n",
    "    'chr10':130694993,\n",
    "    'chr11':122082543,\n",
    "    'chr12':120129022,\n",
    "    'chr13':120421639,\n",
    "    'chr14':124902244,\n",
    "    'chr15':104043685,\n",
    "    'chr16':98207768,\n",
    "    'chr17':94987271,\n",
    "    'chr18':90702639,\n",
    "    'chr19':61431566,\n",
    "    'chrX':171031299,\n",
    "}"
   ]
  },
  {
   "cell_type": "code",
   "execution_count": 4,
   "id": "8fdfb90d-1eeb-4f02-9d41-05aed80de620",
   "metadata": {},
   "outputs": [],
   "source": [
    "class histone_data:\n",
    "    \n",
    "#------------------------------------------------------------------------------------------------------\n",
    "    def __init__(self, histone, organism, data_type, chrom_info):\n",
    "        self.histone = histone                 #name of the histone mark\n",
    "        self.organism = organism               #human or mouse\n",
    "        self.data_type = data_type             #type of data (tissue, cell line, primary cell, etc.)\n",
    "        self.chrom_info = chrom_info           #dictionary with the number of bps per chromosome\n",
    "        self.features = None                   #df with names of features (eg. \"chr1:123132-123460\") \n",
    "        self.evolution_cycle = 0               #evolution cycle for feature augmentation\n",
    "        self.df = None                         #df for the main compressed fold enrichment data\n",
    "        self.file_names = None                 #bigWig files\n",
    "        self.corrupted_files = []              #bigWig files that raise an error when opening\n",
    "        self.window_size = None                #window size for compression\n",
    "        self.function = None                   #function used to compress data\n",
    "        self.max_resolution = None             #max resolution for greedy zoom feature augmentation\n",
    "        self.gene_annotation = None            #gene annotation for each transcript\n",
    "\n",
    "#------------------------------------------------------------------------------------------------------\n",
    "    def add_file_names(self):\n",
    "        directory = 'histone_data/' + self.organism + '/' + self.data_type + '/' + self.histone + '/raw_data/'\n",
    "        histone_files = [f for f in listdir(directory) if isfile(join(directory, f))]\n",
    "        histone_files.sort()\n",
    "        histone_files.pop(0)\n",
    "        histone_files.pop(-1)\n",
    "        self.directory = directory\n",
    "        self.file_names = histone_files\n",
    "        \n",
    "#------------------------------------------------------------------------------------------------------\n",
    "    def check_files(self, verbose = False): #makes sure that files are not corrupted, and if so, removes from file_names\n",
    "                \n",
    "        #loop through all the files\n",
    "        for file in self.file_names:\n",
    "            try: \n",
    "                bw = pyBigWig.open(self.directory + file)\n",
    "                #loop through all chromosomes to check if each one can be opened\n",
    "                for chrom in list(self.chrom_info.keys()):\n",
    "                    chrom_bases = bw.values(chrom, 0, 42, numpy = True) \n",
    "            \n",
    "            except: \n",
    "                self.file_names.remove(file)\n",
    "                self.corrupted_files.append(file)\n",
    "                if verbose == True:\n",
    "                    print(file)\n",
    "                continue\n",
    "\n",
    "            bw.close()\n",
    "\n",
    "#------------------------------------------------------------------------------------------------------\n",
    "    def subdivide(self, by = 'bin', window_size = 100000, gene_filter = None): #make the segments for each feature\n",
    "        \n",
    "        if by == 'gene':\n",
    "        \n",
    "            self.gene_annotation = read_gtf('histone_metadata/' + self.organism + '/annotation/gene_annotation.gtf')\n",
    "            self.gene_annotation = self.gene_annotation[self.gene_annotation[\"feature\"] == \"gene\"]\n",
    "            self.gene_annotation = self.gene_annotation[self.gene_annotation.seqname.apply(lambda x: x in self.chrom_info.keys())]\n",
    "            if gene_filter != None:\n",
    "                self.gene_annotation = gene_filter(self.gene_annotation)\n",
    "\n",
    "            chrom = np.array(self.gene_annotation.seqname)\n",
    "            start = np.array(self.gene_annotation.start)\n",
    "            end = np.array(self.gene_annotation.end)\n",
    "            length = end - start\n",
    "            former_na = [0]*self.gene_annotation.shape[0]\n",
    "            zero_masked = [0]*self.gene_annotation.shape[0]\n",
    "\n",
    "            self.features = pd.DataFrame(np.array([chrom, start, end, length, former_na, zero_masked]).T, columns = ['chrom', 'start', 'end', 'length', 'former_na', 'zero_masked'], index = np.array(self.gene_annotation.gene_id))\n",
    "            self.features[['start', 'end', 'length', 'former_na', 'zero_masked']] = self.features[['start', 'end', 'length', 'former_na', 'zero_masked']].apply(pd.to_numeric, axis = 1)\n",
    "            self.features = self.features.sort_values(['chrom', 'start', 'end'])\n",
    "            \n",
    "        elif by == 'bin':\n",
    "            \n",
    "            self.window_size = int(window_size)\n",
    "            self.features = np.empty([0,7])\n",
    "\n",
    "            #loop through all chromosomes but chrY (as some samples are from woman)\n",
    "            for chrom in list(self.chrom_info.keys()):\n",
    "\n",
    "                #slide across the chromosome to get the feature names and positions\n",
    "                bases_to_end = self.chrom_info[chrom]\n",
    "                while bases_to_end > 0:\n",
    "\n",
    "                    start = self.chrom_info[chrom] - bases_to_end\n",
    "                    end = start + self.window_size if bases_to_end > self.window_size else self.chrom_info[chrom]\n",
    "                    length = end - start\n",
    "                    index = chrom + ':' + str(start + 1) + '-' + str(end)\n",
    "\n",
    "                    self.features = np.vstack([self.features, [index, chrom, start + 1, end, length, 0, 0]])\n",
    "\n",
    "                    bases_to_end -= self.window_size\n",
    "\n",
    "            self.features = pd.DataFrame(self.features, columns = ['', 'chrom', 'start', 'end', 'length', 'former_na', 'zero_masked'])\n",
    "            self.features[['start', 'end', 'length', 'former_na', 'zero_masked']] = self.features[['start', 'end', 'length', 'former_na', 'zero_masked']].apply(pd.to_numeric, axis = 1)\n",
    "            self.features = self.features.set_index('')\n",
    "        \n",
    "        #empty df for the main compressed fold enrichment data\n",
    "        self.df = np.empty([0,self.features.shape[0]])\n",
    "        \n",
    "#------------------------------------------------------------------------------------------------------\n",
    "    def process(self, function): #compresses bigWig data with a function\n",
    "        \n",
    "        #function used to compress the data\n",
    "        self.function = function              \n",
    "        \n",
    "        #code to get a progress bar\n",
    "        widgets = ['Progress for ' + self.histone + ':', Percentage(), '[', Bar(marker=AnimatedMarker()), ']', ' ', AdaptiveETA(), ' ']\n",
    "        pbar_maxval = len(self.file_names) * len(self.chrom_info.keys())\n",
    "        pbar = ProgressBar(widgets=widgets, maxval = pbar_maxval).start()\n",
    "        count = 0\n",
    "        \n",
    "        #loop through all the files\n",
    "        for file in self.file_names:\n",
    "            \n",
    "            #first open file and create empty array to store all compressed variables across samples\n",
    "            bw = pyBigWig.open(self.directory + file)\n",
    "            all_vars = np.empty([0,])\n",
    "            \n",
    "            #loop through all chromosomes but chrY (as some samples are from woman)\n",
    "            for chrom in list(self.chrom_info.keys()):\n",
    "                \n",
    "                #load entire chromosome ChIP-Seq values\n",
    "                chrom_bases = bw.values(chrom, 0, self.chrom_info[chrom], numpy = True)\n",
    "                \n",
    "                #beginning and end of chromosome are zero for the interpolation below\n",
    "                na_indexes = np.isnan(chrom_bases)\n",
    "                if np.isnan(chrom_bases[0]):\n",
    "                    chrom_bases[0] = 0\n",
    "                if np.isnan(chrom_bases[-1]):\n",
    "                    chrom_bases[-1] = 0\n",
    "                    \n",
    "                #Linear Interpolation for imputation\n",
    "                chrom_bases = np.array(pd.Series(chrom_bases).interpolate(method='linear'))\n",
    "                \n",
    "                #due to the interpolation, it is possible that values are really small or negative. Just set them to 0\n",
    "                zero_mask = np.array(chrom_bases < 0.01) & np.array(chrom_bases > 0.00)\n",
    "                chrom_bases[zero_mask] = 0\n",
    "                \n",
    "                #features by chromossome\n",
    "                features_chrom = self.features[self.features.chrom == chrom]\n",
    "                \n",
    "                #slide across the chromosome compressing the original bigWig file\n",
    "                for index in features_chrom.index:\n",
    "                    start = features_chrom.loc[index].start\n",
    "                    end = features_chrom.loc[index].end\n",
    "                    bin_bases = chrom_bases[start-1:end]\n",
    "                    var = self.function(bin_bases)\n",
    "                    all_vars = np.append(all_vars, var)\n",
    "                                        \n",
    "                    if np.sum(np.array(na_indexes[start:end])) > 0:\n",
    "                        self.features.loc[np.array(self.features.chrom == chrom) & np.array(self.features.start == start), 'former_na'] += 1\n",
    "                    if np.sum(np.array(zero_mask[start:end])) > 0:\n",
    "                        self.features.loc[np.array(self.features.chrom == chrom) & np.array(self.features.start == start), 'zero_masked'] += 1\n",
    "                    \n",
    "                #update progress bar\n",
    "                pbar.update(count+1)\n",
    "                count+=1\n",
    "                \n",
    "                #collect garbage files\n",
    "                gc.collect()\n",
    "            \n",
    "            bw.close()\n",
    "                \n",
    "            self.df = np.vstack([self.df, all_vars])\n",
    "        \n",
    "        #create pandas dataframe with indexes as file accession names\n",
    "        self.df = pd.DataFrame(self.df, index = [feature_name[0:11] for feature_name in self.file_names], columns = self.features.index)\n",
    "        \n",
    "        #stop progress bar\n",
    "        pbar.finish()\n",
    "        \n",
    "#------------------------------------------------------------------------------------------------------\n",
    "    def save(self, name):\n",
    "        filehandler = open('histone_data/' + self.organism + '/' + self.data_type + '/' + self.histone + '/processed_data/' + name + '.pkl', 'wb') \n",
    "        pickle.dump(self, filehandler)\n",
    "\n",
    "#------------------------------------------------------------------------------------------------------"
   ]
  },
  {
   "cell_type": "code",
   "execution_count": 5,
   "id": "bbe43cd9-306a-49c8-ba08-1ea0463c0e00",
   "metadata": {},
   "outputs": [],
   "source": [
    "#entropy calculation uses a zero-inflated log-normal distribution\n",
    "def continuous_normal_pdf(x, mu = 0, sd = 1, zero = 0.7):\n",
    "    all_zeros = np.where(x == 0)\n",
    "    f = (1 - zero) * lognorm.pdf(x, s = 1/np.sqrt(6), loc= mu, scale=sd)\n",
    "    f[all_zeros] = zero + (1 - zero) * lognorm.cdf(x[all_zeros], s = 0.7, loc= mu, scale=sd)\n",
    "    return f\n",
    "\n",
    "def my_entropy(bases):\n",
    "    ps = continuous_normal_pdf(bases)\n",
    "    shannon_entropy = -(ps * np.log(ps)).sum()\n",
    "    norm_entropy = shannon_entropy/len(bases)\n",
    "    return norm_entropy"
   ]
  },
  {
   "cell_type": "markdown",
   "id": "5ec02c12-797b-42eb-aa6d-9cb02bbf65be",
   "metadata": {},
   "source": [
    "### _______________________________________________________________________________________________________________________________________________________________________________________________________________"
   ]
  },
  {
   "cell_type": "markdown",
   "id": "b160cedc-a289-458a-9b77-6bfe5758b9ea",
   "metadata": {},
   "source": [
    "### _______________________________________________________________________________________________________________________________________________________________________________________________________________"
   ]
  },
  {
   "cell_type": "markdown",
   "id": "908da187-6a7c-4c61-9df6-bae3b45abb52",
   "metadata": {},
   "source": [
    "# Create new objects to load and process the histone data"
   ]
  },
  {
   "cell_type": "markdown",
   "id": "a9d5592c-417d-4250-8d3f-37cb7abe0bee",
   "metadata": {},
   "source": [
    "## Human"
   ]
  },
  {
   "cell_type": "markdown",
   "id": "13a80498-537e-4761-b6f9-182bd9e15424",
   "metadata": {},
   "source": [
    "### _______________________________________________________________________________________________________________________________________________________________________________________________________________"
   ]
  },
  {
   "cell_type": "markdown",
   "id": "2c0060df-30cd-4ca9-a7ca-16440f363987",
   "metadata": {},
   "source": [
    "### Tissue"
   ]
  },
  {
   "cell_type": "markdown",
   "id": "57b4c10d-9c82-4588-a5fe-a07d27436a70",
   "metadata": {},
   "source": [
    "### H3K4me3"
   ]
  },
  {
   "cell_type": "markdown",
   "id": "eb4e4625-6363-4dc3-9e4a-c30762dceff6",
   "metadata": {},
   "source": [
    "##### Mean"
   ]
  },
  {
   "cell_type": "code",
   "execution_count": 10,
   "id": "a625c8d5-578b-43ec-aa6b-7c75f8d48be2",
   "metadata": {},
   "outputs": [
    {
     "name": "stderr",
     "output_type": "stream",
     "text": [
      "Progress for H3K4me3:100%[|||||||||||||||||||||||||||||||||||||] Time: 11:24:30 \n"
     ]
    }
   ],
   "source": [
    "H3K4me3_mean_bins = histone_data('H3K4me3', 'human', 'tissue', chrom_info_hg38)\n",
    "H3K4me3_mean_bins.add_file_names()\n",
    "H3K4me3_mean_bins.check_files(verbose = True)\n",
    "H3K4me3_mean_bins.subdivide(by = 'bin', window_size = 100000)\n",
    "H3K4me3_mean_bins.process(np.mean)\n",
    "H3K4me3_mean_bins.save('H3K4me3_mean_bins')"
   ]
  },
  {
   "cell_type": "code",
   "execution_count": 6,
   "id": "712f1e36-aad4-4b2b-9402-2c704ea917e9",
   "metadata": {},
   "outputs": [
    {
     "name": "stderr",
     "output_type": "stream",
     "text": [
      "Progress for H3K4me3:100%[|||||||||||||||||||||||||||||||||||||||||||||||||||||||||||||||||||||||||||||||||||||||||||||||||||||||||||||||||||||||||||||||||||||||||||||||||||||||||||||||||] Time: 12:04:49 \n"
     ]
    }
   ],
   "source": [
    "H3K4me3_mean_genes = histone_data('H3K4me3', 'human', 'tissue', chrom_info_hg38)\n",
    "H3K4me3_mean_genes.add_file_names()\n",
    "H3K4me3_mean_genes.check_files(verbose = True)\n",
    "H3K4me3_mean_genes.subdivide(by = 'gene')\n",
    "clear_output()\n",
    "H3K4me3_mean_genes.process(np.mean)\n",
    "H3K4me3_mean_genes.save('H3K4me3_mean_genes')"
   ]
  },
  {
   "cell_type": "markdown",
   "id": "a820fd7f-5ba0-4841-97f1-4987c6ba3d18",
   "metadata": {},
   "source": [
    "##### Entropy"
   ]
  },
  {
   "cell_type": "code",
   "execution_count": 16,
   "id": "6c488989-3e54-4f71-b30d-fa5109ddb958",
   "metadata": {},
   "outputs": [
    {
     "name": "stderr",
     "output_type": "stream",
     "text": [
      "Progress for H3K4me3:100%[|||||||||||||||||||||||||||||||||||||||||||||||||||||||||||||||||||||||||||||||||||||||||||||||||||||||||||||||||||||||||||||||||||||||||||||||||||||||||||||||||] Time: 18:37:18 \n"
     ]
    }
   ],
   "source": [
    "H3K4me3_entropy_bins = histone_data('H3K4me3', 'human', 'tissue', chrom_info_hg38)\n",
    "H3K4me3_entropy_bins.add_file_names()\n",
    "H3K4me3_entropy_bins.check_files(verbose = True)\n",
    "H3K4me3_entropy_bins.subdivide(by = 'bin', window_size = 100000)\n",
    "H3K4me3_entropy_bins.process(my_entropy)\n",
    "H3K4me3_entropy_bins.save('H3K4me3_entropy_bins')"
   ]
  },
  {
   "cell_type": "markdown",
   "id": "9479f541-5c8e-42d4-a791-3c67a9dac478",
   "metadata": {},
   "source": [
    "### H3K27ac"
   ]
  },
  {
   "cell_type": "markdown",
   "id": "71ff2028-b2a1-4598-b503-596676343ff0",
   "metadata": {},
   "source": [
    "##### Mean"
   ]
  },
  {
   "cell_type": "code",
   "execution_count": 22,
   "id": "80c851b9-c71d-4ea8-9549-a63d7942eaa5",
   "metadata": {},
   "outputs": [
    {
     "name": "stderr",
     "output_type": "stream",
     "text": [
      "Progress for H3K27ac:100%[|||||||||||||||||||||||||||||||||||||||||||||||||||||||||||||||||||||||||||||||||||||||||||||||||||||||||||||||||||||||||||||||||||||||||||||||||||||||||||||||||] Time: 11:25:59 \n"
     ]
    }
   ],
   "source": [
    "H3K27ac_mean_bins = histone_data('H3K27ac', 'human', 'tissue', chrom_info_hg38)\n",
    "H3K27ac_mean_bins.add_file_names()\n",
    "H3K27ac_mean_bins.check_files(verbose = True)\n",
    "H3K27ac_mean_bins.subdivide(by = 'bin', window_size = 100000)\n",
    "H3K27ac_mean_bins.process(np.mean)\n",
    "H3K27ac_mean_bins.save('H3K27ac_mean_bins')"
   ]
  },
  {
   "cell_type": "code",
   "execution_count": 6,
   "id": "415c69ff-5d1b-45f5-921c-29cf40f398de",
   "metadata": {},
   "outputs": [
    {
     "name": "stderr",
     "output_type": "stream",
     "text": [
      "Progress for H3K27ac:100%[|||||||||||||||||||||||||||||||||||||||||||||||||||||||||||||||||||||||||||||||||||||||||||||||||||||||||||||||||||||||||||||||||||||||||||||||||||||||||||||||||] Time: 11:36:18 \n"
     ]
    }
   ],
   "source": [
    "H3K27ac_mean_genes = histone_data('H3K27ac', 'human', 'tissue', chrom_info_hg38)\n",
    "H3K27ac_mean_genes.add_file_names()\n",
    "H3K27ac_mean_genes.check_files(verbose = True)\n",
    "H3K27ac_mean_genes.subdivide(by = 'gene')\n",
    "clear_output()\n",
    "H3K27ac_mean_genes.process(np.mean)\n",
    "H3K27ac_mean_genes.save('H3K27ac_mean_genes')"
   ]
  },
  {
   "cell_type": "markdown",
   "id": "75a479eb-a8fc-46fa-9c9d-bd7368da4edf",
   "metadata": {},
   "source": [
    "##### Entropy"
   ]
  },
  {
   "cell_type": "code",
   "execution_count": 28,
   "id": "5d69ba69-43a1-4f9e-9105-0499f3df0368",
   "metadata": {},
   "outputs": [
    {
     "name": "stderr",
     "output_type": "stream",
     "text": [
      "Progress for H3K27ac:100%[|||||||||||||||||||||||||||||||||||||||||||||||||||||||||||||||||||||||||||||||||||||||||||||||||||||||||||||||||||||||||||||||||||||||||||||||||||||||||||||||||] Time: 18:01:59 \n"
     ]
    }
   ],
   "source": [
    "H3K27ac_entropy_bins = histone_data('H3K27ac','human', 'tissue', chrom_info_hg38)\n",
    "H3K27ac_entropy_bins.add_file_names()\n",
    "H3K27ac_entropy_bins.check_files(verbose = True)\n",
    "H3K27ac_entropy_bins.subdivide(by = 'bin', window_size = 100000)\n",
    "H3K27ac_entropy_bins.process(my_entropy)\n",
    "H3K27ac_entropy_bins.save('H3K27ac_entropy_bins')"
   ]
  },
  {
   "cell_type": "markdown",
   "id": "7771bf99-337c-4fde-bd0b-4f9d7f2f716b",
   "metadata": {},
   "source": [
    "### H3K4me1"
   ]
  },
  {
   "cell_type": "markdown",
   "id": "e5a87060-b8d7-409a-81a5-0fcec36e4119",
   "metadata": {},
   "source": [
    "##### Mean"
   ]
  },
  {
   "cell_type": "code",
   "execution_count": 34,
   "id": "2e2562fa-3682-4236-880e-922e3527982b",
   "metadata": {},
   "outputs": [
    {
     "name": "stderr",
     "output_type": "stream",
     "text": [
      "Progress for H3K4me1:100%[||||||||||||||||||||||||||||||||||||||||||||||||||||||||||||||||||||||||||||||||||||||||||||||||||||||||||||||||||||||||||||||||||||||||||||||||||||||||||||||||||] Time: 9:45:47 \n"
     ]
    }
   ],
   "source": [
    "H3K4me1_mean_bins = histone_data('H3K4me1', 'human', 'tissue', chrom_info_hg38)\n",
    "H3K4me1_mean_bins.add_file_names()\n",
    "H3K4me1_mean_bins.check_files(verbose = True)\n",
    "H3K4me1_mean_bins.subdivide(by = 'bin', window_size = 100000)\n",
    "H3K4me1_mean_bins.process(np.mean)\n",
    "H3K4me1_mean_bins.save('H3K4me1_mean_bins')"
   ]
  },
  {
   "cell_type": "code",
   "execution_count": 7,
   "id": "03b6ea67-6fb7-4661-ad58-6648a7cdae65",
   "metadata": {},
   "outputs": [
    {
     "name": "stderr",
     "output_type": "stream",
     "text": [
      "Progress for H3K4me1:100%[||||||||||||||||||||||||||||||||||||||||||||||||||||||||||||||||||||||||||||||||||||||||||||||||||||||||||||||||||||||||||||||||||||||||||||||||||||||||||||||||||] Time: 9:43:28 \n"
     ]
    }
   ],
   "source": [
    "H3K4me1_mean_genes = histone_data('H3K4me1', 'human', 'tissue', chrom_info_hg38)\n",
    "H3K4me1_mean_genes.add_file_names()\n",
    "H3K4me1_mean_genes.check_files(verbose = True)\n",
    "H3K4me1_mean_genes.subdivide(by = 'gene')\n",
    "clear_output()\n",
    "H3K4me1_mean_genes.process(np.mean)\n",
    "H3K4me1_mean_genes.save('H3K4me1_mean_genes')"
   ]
  },
  {
   "cell_type": "markdown",
   "id": "c1ae1535-77c0-4a83-bff7-c2892a92059f",
   "metadata": {},
   "source": [
    "##### Entropy"
   ]
  },
  {
   "cell_type": "code",
   "execution_count": 40,
   "id": "aaab8af0-1590-4d41-9338-6207764803cf",
   "metadata": {},
   "outputs": [
    {
     "name": "stderr",
     "output_type": "stream",
     "text": [
      "Progress for H3K4me1:100%[|||||||||||||||||||||||||||||||||||||||||||||||||||||||||||||||||||||||||||||||||||||||||||||||||||||||||||||||||||||||||||||||||||||||||||||||||||||||||||||||||] Time: 14:45:14 \n"
     ]
    }
   ],
   "source": [
    "H3K4me1_entropy = histone_data('H3K4me1','human', 'tissue', chrom_info_hg38)\n",
    "H3K4me1_entropy.add_file_names()\n",
    "H3K4me1_entropy.check_files(verbose = True)\n",
    "H3K4me1_entropy.subdivide(by = 'bin', window_size = 100000)\n",
    "H3K4me1_entropy.process(my_entropy)\n",
    "H3K4me1_entropy.save('H3K4me1_entropy')"
   ]
  },
  {
   "cell_type": "markdown",
   "id": "0058d203-13d5-4d91-b31d-5bd2a7d8ea54",
   "metadata": {},
   "source": [
    "### H3K9me3"
   ]
  },
  {
   "cell_type": "markdown",
   "id": "b87852f1-59b0-4e02-a121-5cee301865d6",
   "metadata": {},
   "source": [
    "##### Mean"
   ]
  },
  {
   "cell_type": "code",
   "execution_count": 46,
   "id": "d38a72ef-2cf0-45b6-9aac-288e0bd7ac20",
   "metadata": {},
   "outputs": [
    {
     "name": "stderr",
     "output_type": "stream",
     "text": [
      "Progress for H3K9me3:100%[||||||||||||||||||||||||||||||||||||||||||||||||||||||||||||||||||||||||||||||||||||||||||||||||||||||||||||||||||||||||||||||||||||||||||||||||||||||||||||||||||] Time: 8:29:27 \n"
     ]
    }
   ],
   "source": [
    "H3K9me3_mean_bins = histone_data('H3K9me3', 'human', 'tissue', chrom_info_hg38)\n",
    "H3K9me3_mean_bins.add_file_names()\n",
    "H3K9me3_mean_bins.check_files(verbose = True)\n",
    "H3K9me3_mean_bins.subdivide(by = 'bin', window_size = 100000)\n",
    "H3K9me3_mean_bins.process(np.mean)\n",
    "H3K9me3_mean_bins.save('H3K9me3_mean_bins')"
   ]
  },
  {
   "cell_type": "code",
   "execution_count": 8,
   "id": "ea56e563-8cbe-41b7-8938-a47303218eb2",
   "metadata": {},
   "outputs": [
    {
     "name": "stderr",
     "output_type": "stream",
     "text": [
      "Progress for H3K9me3:100%[||||||||||||||||||||||||||||||||||||||||||||||||||||||||||||||||||||||||||||||||||||||||||||||||||||||||||||||||||||||||||||||||||||||||||||||||||||||||||||||||||] Time: 9:13:48 \n"
     ]
    }
   ],
   "source": [
    "H3K9me3_mean_genes = histone_data('H3K9me3', 'human', 'tissue', chrom_info_hg38)\n",
    "H3K9me3_mean_genes.add_file_names()\n",
    "H3K9me3_mean_genes.check_files(verbose = True)\n",
    "H3K9me3_mean_genes.subdivide(by = 'gene')\n",
    "clear_output()\n",
    "H3K9me3_mean_genes.process(np.mean)\n",
    "H3K9me3_mean_genes.save('H3K9me3_mean_genes')"
   ]
  },
  {
   "cell_type": "markdown",
   "id": "b5b67e04-2659-484f-9749-256352ef8e8f",
   "metadata": {},
   "source": [
    "##### Entropy"
   ]
  },
  {
   "cell_type": "code",
   "execution_count": 10,
   "id": "679398f8-646a-484e-a09d-a80a4668bf72",
   "metadata": {},
   "outputs": [
    {
     "name": "stderr",
     "output_type": "stream",
     "text": [
      "Progress for H3K9me3:100%[|||||||||||||||||||||||||||||||||||||||||||||||||||||||||||||||||||||||||||||||||||||||||||||||||||||||||||||||||||||||||||||||||||||||||||||||||||||||||||||||||] Time: 14:14:45 \n"
     ]
    }
   ],
   "source": [
    "H3K9me3_entropy_bins = histone_data('H3K9me3','human', 'tissue', chrom_info_hg38)\n",
    "H3K9me3_entropy_bins.add_file_names()\n",
    "H3K9me3_entropy_bins.check_files(verbose = True)\n",
    "H3K9me3_entropy_bins.subdivide(by = 'bin', window_size = 100000)\n",
    "H3K9me3_entropy_bins.process(my_entropy)\n",
    "H3K9me3_entropy_bins.save('H3K9me3_entropy_bins')"
   ]
  },
  {
   "cell_type": "markdown",
   "id": "bac72807-62e5-4599-8f0a-f3a8c76218d6",
   "metadata": {},
   "source": [
    "### H3K27me3"
   ]
  },
  {
   "cell_type": "markdown",
   "id": "2ddf4d86-817d-42f1-af2e-e77666c4bee7",
   "metadata": {},
   "source": [
    "##### Mean"
   ]
  },
  {
   "cell_type": "code",
   "execution_count": 16,
   "id": "e8100645-8932-4d31-925b-2f69e873b188",
   "metadata": {},
   "outputs": [
    {
     "name": "stderr",
     "output_type": "stream",
     "text": [
      "Progress for H3K27me3:100%[|||||||||||||||||||||||||||||||||||||||||||||||||||||||||||||||||||||||||||||||||||||||||||||||||||||||||||||||||||||||||||||||||||||||||||||||||||||||||||||||||] Time: 8:49:52 \n"
     ]
    }
   ],
   "source": [
    "H3K27me3_mean_bins = histone_data('H3K27me3', 'human', 'tissue', chrom_info_hg38)\n",
    "H3K27me3_mean_bins.add_file_names()\n",
    "H3K27me3_mean_bins.check_files(verbose = True)\n",
    "H3K27me3_mean_bins.subdivide(by = 'bin', window_size = 100000)\n",
    "H3K27me3_mean_bins.process(np.mean)\n",
    "H3K27me3_mean_bins.save('H3K27me3_mean_bins')"
   ]
  },
  {
   "cell_type": "code",
   "execution_count": 9,
   "id": "877363ed-7f81-47a4-a296-b3ee7f365c71",
   "metadata": {},
   "outputs": [
    {
     "name": "stderr",
     "output_type": "stream",
     "text": [
      "Progress for H3K27me3:100%[|||||||||||||||||||||||||||||||||||||||||||||||||||||||||||||||||||||||||||||||||||||||||||||||||||||||||||||||||||||||||||||||||||||||||||||||||||||||||||||||||] Time: 9:13:25 \n"
     ]
    }
   ],
   "source": [
    "H3K27me3_mean_genes = histone_data('H3K27me3', 'human', 'tissue', chrom_info_hg38)\n",
    "H3K27me3_mean_genes.add_file_names()\n",
    "H3K27me3_mean_genes.check_files(verbose = True)\n",
    "H3K27me3_mean_genes.subdivide(by = 'gene')\n",
    "clear_output()\n",
    "H3K27me3_mean_genes.process(np.mean)\n",
    "H3K27me3_mean_genes.save('H3K27me3_mean_genes')"
   ]
  },
  {
   "cell_type": "markdown",
   "id": "d176f22a-935f-4e21-87e6-e337bc1e9e1f",
   "metadata": {},
   "source": [
    "##### Entropy"
   ]
  },
  {
   "cell_type": "code",
   "execution_count": 22,
   "id": "17e5e468-301e-407d-befe-40c5b6074425",
   "metadata": {},
   "outputs": [
    {
     "name": "stderr",
     "output_type": "stream",
     "text": [
      "Progress for H3K27me3:100%[||||||||||||||||||||||||||||||||||||||||||||||||||||||||||||||||||||||||||||||||||||||||||||||||||||||||||||||||||||||||||||||||||||||||||||||||||||||||||||||||] Time: 15:23:32 \n"
     ]
    }
   ],
   "source": [
    "H3K27me3_entropy_bins = histone_data('H3K27me3','human', 'tissue', chrom_info_hg38)\n",
    "H3K27me3_entropy_bins.add_file_names()\n",
    "H3K27me3_entropy_bins.check_files(verbose = True)\n",
    "H3K27me3_entropy_bins.subdivide(by = 'bin', window_size = 100000)\n",
    "H3K27me3_entropy_bins.process(my_entropy)\n",
    "H3K27me3_entropy_bins.save('H3K27me3_entropy_bins')"
   ]
  },
  {
   "cell_type": "markdown",
   "id": "98d588e2-6455-4f62-97ab-b47bd3ee0306",
   "metadata": {},
   "source": [
    "### H3K36me3"
   ]
  },
  {
   "cell_type": "markdown",
   "id": "bca00f99-7083-4021-a916-2d6b90c437f8",
   "metadata": {},
   "source": [
    "##### Mean"
   ]
  },
  {
   "cell_type": "code",
   "execution_count": 28,
   "id": "7c314b99-ce0b-4f02-96d0-6207858efd5b",
   "metadata": {},
   "outputs": [
    {
     "name": "stderr",
     "output_type": "stream",
     "text": [
      "Progress for H3K36me3:100%[|||||||||||||||||||||||||||||||||||||||||||||||||||||||||||||||||||||||||||||||||||||||||||||||||||||||||||||||||||||||||||||||||||||||||||||||||||||||||||||||||] Time: 9:44:48 \n"
     ]
    }
   ],
   "source": [
    "H3K36me3_mean_bins = histone_data('H3K36me3', 'human', 'tissue', chrom_info_hg38)\n",
    "H3K36me3_mean_bins.add_file_names()\n",
    "H3K36me3_mean_bins.check_files(verbose = True)\n",
    "H3K36me3_mean_bins.subdivide(by = 'bin', window_size = 100000)\n",
    "H3K36me3_mean_bins.process(np.mean)\n",
    "H3K36me3_mean_bins.save('H3K36me3_mean_bins')"
   ]
  },
  {
   "cell_type": "code",
   "execution_count": 10,
   "id": "91dddf55-1f17-4010-9f5f-5f0903dfcdf7",
   "metadata": {},
   "outputs": [
    {
     "name": "stderr",
     "output_type": "stream",
     "text": [
      "INFO:root:Extracted GTF attributes: ['gene_id', 'gene_type', 'gene_name', 'level', 'hgnc_id', 'havana_gene', 'transcript_id', 'transcript_type', 'transcript_name', 'transcript_support_level', 'tag', 'havana_transcript', 'exon_number', 'exon_id', 'ont', 'protein_id', 'ccdsid']\n",
      "Progress for H3K36me3:100%[|||||||||||||||||||||||||||||||||||||||||||||||||||||||||||||||||||||||||||||||||||||||||||||||||||||||||||||||||||||||||||||||||||||||||||||||||||||||||||||||||] Time: 9:25:41 \n"
     ]
    }
   ],
   "source": [
    "H3K36me3_mean_genes = histone_data('H3K36me3', 'human', 'tissue', chrom_info_hg38)\n",
    "H3K36me3_mean_genes.add_file_names()\n",
    "H3K36me3_mean_genes.check_files(verbose = True)\n",
    "H3K36me3_mean_genes.subdivide(by = 'gene')\n",
    "clear_output()\n",
    "H3K36me3_mean_genes.process(np.mean)\n",
    "H3K36me3_mean_genes.save('H3K36me3_mean_genes')"
   ]
  },
  {
   "cell_type": "markdown",
   "id": "a6e1865e-ff6f-49dc-acf0-25ae97fec43d",
   "metadata": {},
   "source": [
    "##### Entropy"
   ]
  },
  {
   "cell_type": "code",
   "execution_count": 34,
   "id": "9b6a8bc9-603c-4e4a-ae91-808c25656463",
   "metadata": {},
   "outputs": [
    {
     "name": "stderr",
     "output_type": "stream",
     "text": [
      "Progress for H3K36me3:100%[||||||||||||||||||||||||||||||||||||||||||||||||||||||||||||||||||||||||||||||||||||||||||||||||||||||||||||||||||||||||||||||||||||||||||||||||||||||||||||||||] Time: 14:54:41 \n"
     ]
    }
   ],
   "source": [
    "H3K36me3_entropy_bins = histone_data('H3K36me3','human', 'tissue', chrom_info_hg38)\n",
    "H3K36me3_entropy_bins.add_file_names()\n",
    "H3K36me3_entropy_bins.check_files(verbose = True)\n",
    "H3K36me3_entropy_bins.subdivide(by = 'bin', window_size = 100000)\n",
    "H3K36me3_entropy_bins.process(my_entropy)\n",
    "H3K36me3_entropy_bins.save('H3K36me3_entropy_bins')"
   ]
  },
  {
   "cell_type": "markdown",
   "id": "2c98d9be-061b-4864-84b5-5da3400281f4",
   "metadata": {},
   "source": [
    "### _______________________________________________________________________________________________________________________________________________________________________________________________________________"
   ]
  },
  {
   "cell_type": "markdown",
   "id": "a4a6bcf9-a5ff-4997-962f-55a1fa2b7607",
   "metadata": {},
   "source": [
    "### Primary Cell"
   ]
  },
  {
   "cell_type": "markdown",
   "id": "119cc495-fafc-420b-8ce7-b8f085cfd60e",
   "metadata": {},
   "source": [
    "### H3K4me3"
   ]
  },
  {
   "cell_type": "markdown",
   "id": "4654234d-4ea6-441f-8871-69207c73960b",
   "metadata": {},
   "source": [
    "##### Mean"
   ]
  },
  {
   "cell_type": "code",
   "execution_count": 40,
   "id": "b4def54f-d6f6-4aff-a554-322b095c3b35",
   "metadata": {},
   "outputs": [
    {
     "name": "stderr",
     "output_type": "stream",
     "text": [
      "Progress for H3K4me3:100%[||||||||||||||||||||||||||||||||||||||||||||||||||||||||||||||||||||||||||||||||||||||||||||||||||||||||||||||||||||||||||||||||||||||||||||||||||||||||||||||||||] Time: 2:55:10 \n"
     ]
    }
   ],
   "source": [
    "H3K4me3_mean_bins = histone_data('H3K4me3', 'human', 'primary_cell', chrom_info_hg38)\n",
    "H3K4me3_mean_bins.add_file_names()\n",
    "H3K4me3_mean_bins.check_files(verbose = True)\n",
    "H3K4me3_mean_bins.subdivide(by = 'bin', window_size = 100000)\n",
    "H3K4me3_mean_bins.process(np.mean)\n",
    "H3K4me3_mean_bins.save('H3K4me3_mean_bins')"
   ]
  },
  {
   "cell_type": "code",
   "execution_count": null,
   "id": "e12b873f-ace8-4dc7-a24e-00df32e9ab98",
   "metadata": {},
   "outputs": [
    {
     "name": "stderr",
     "output_type": "stream",
     "text": [
      "Progress for H3K4me3: 12%[|-------------------                                                                                                                                             |] ETA:  2:41:20 \r"
     ]
    }
   ],
   "source": [
    "H3K4me3_mean_genes = histone_data('H3K4me3', 'human', 'primary_cell', chrom_info_hg38)\n",
    "H3K4me3_mean_genes.add_file_names()\n",
    "H3K4me3_mean_genes.check_files(verbose = True)\n",
    "H3K4me3_mean_genes.subdivide(by = 'gene')\n",
    "clear_output()\n",
    "H3K4me3_mean_genes.process(np.mean)\n",
    "H3K4me3_mean_genes.save('H3K4me3_mean_genes')"
   ]
  },
  {
   "cell_type": "markdown",
   "id": "eb606a32-0933-479a-9faa-452238fddc49",
   "metadata": {},
   "source": [
    "##### Entropy"
   ]
  },
  {
   "cell_type": "code",
   "execution_count": 46,
   "id": "4ecd031c-b795-4dd9-ab44-c0a337784a0a",
   "metadata": {},
   "outputs": [
    {
     "name": "stderr",
     "output_type": "stream",
     "text": [
      "Progress for H3K4me3:100%[||||||||||||||||||||||||||||||||||||||||||||||||||||||||||||||||||||||||||||||||||||||||||||||||||||||||||||||||||||||||||||||||||||||||||||||||||||||||||||||||||] Time: 4:36:38 \n"
     ]
    }
   ],
   "source": [
    "H3K4me3_entropy_bins = histone_data('H3K4me3', 'human', 'primary_cell', chrom_info_hg38)\n",
    "H3K4me3_entropy_bins.add_file_names()\n",
    "H3K4me3_entropy_bins.check_files(verbose = True)\n",
    "H3K4me3_entropy_bins.subdivide(by = 'bin', window_size = 100000)\n",
    "H3K4me3_entropy_bins.process(my_entropy)\n",
    "H3K4me3_entropy_bins.save('H3K4me3_entropy_bins')"
   ]
  },
  {
   "cell_type": "markdown",
   "id": "f0c30c62-f995-40c0-96b8-49b1131fe28a",
   "metadata": {},
   "source": [
    "### H3K27ac"
   ]
  },
  {
   "cell_type": "markdown",
   "id": "d9edce78-2da1-4943-b839-3cc4caa50737",
   "metadata": {},
   "source": [
    "##### Mean"
   ]
  },
  {
   "cell_type": "code",
   "execution_count": 52,
   "id": "1a326151-9a03-4483-9caf-a7656c9d250a",
   "metadata": {},
   "outputs": [
    {
     "name": "stderr",
     "output_type": "stream",
     "text": [
      "Progress for H3K27ac:100%[||||||||||||||||||||||||||||||||||||||||||||||||||||||||||||||||||||||||||||||||||||||||||||||||||||||||||||||||||||||||||||||||||||||||||||||||||||||||||||||||||] Time: 2:20:13 \n"
     ]
    }
   ],
   "source": [
    "H3K27ac_mean_bins = histone_data('H3K27ac', 'human', 'primary_cell', chrom_info_hg38)\n",
    "H3K27ac_mean_bins.add_file_names()\n",
    "H3K27ac_mean_bins.check_files(verbose = True)\n",
    "H3K27ac_mean_bins.subdivide(by = 'bin', window_size = 100000)\n",
    "H3K27ac_mean_bins.process(np.mean)\n",
    "H3K27ac_mean_bins.save('H3K27ac_mean_bins')"
   ]
  },
  {
   "cell_type": "code",
   "execution_count": null,
   "id": "eb7f5b9d-04fa-4d8c-8af3-1c33d14ab246",
   "metadata": {},
   "outputs": [],
   "source": [
    "H3K27ac_mean_genes = histone_data('H3K27ac', 'human', 'primary_cell', chrom_info_hg38)\n",
    "H3K27ac_mean_genes.add_file_names()\n",
    "H3K27ac_mean_genes.check_files(verbose = True)\n",
    "H3K27ac_mean_genes.subdivide(by = 'gene')\n",
    "clear_output()\n",
    "H3K27ac_mean_genes.process(np.mean)\n",
    "H3K27ac_mean_genes.save('H3K27ac_mean_genes')"
   ]
  },
  {
   "cell_type": "markdown",
   "id": "79afec71-a782-47b2-a34c-d72b5d52aa08",
   "metadata": {},
   "source": [
    "##### Entropy"
   ]
  },
  {
   "cell_type": "code",
   "execution_count": 58,
   "id": "9cdd0062-c251-4cda-b095-ad45bdf49f01",
   "metadata": {},
   "outputs": [
    {
     "name": "stderr",
     "output_type": "stream",
     "text": [
      "Progress for H3K27ac:100%[||||||||||||||||||||||||||||||||||||||||||||||||||||||||||||||||||||||||||||||||||||||||||||||||||||||||||||||||||||||||||||||||||||||||||||||||||||||||||||||||||] Time: 3:35:24 \n"
     ]
    }
   ],
   "source": [
    "H3K27ac_entropy_bins = histone_data('H3K27ac','human', 'primary_cell', chrom_info_hg38)\n",
    "H3K27ac_entropy_bins.add_file_names()\n",
    "H3K27ac_entropy_bins.check_files(verbose = True)\n",
    "H3K27ac_entropy_bins.subdivide(by = 'bin', window_size = 100000)\n",
    "H3K27ac_entropy_bins.process(my_entropy)\n",
    "H3K27ac_entropy_bins.save('H3K27ac_entropy_bins')"
   ]
  },
  {
   "cell_type": "markdown",
   "id": "6be49440-8657-44ee-8f5e-8b9655f9653c",
   "metadata": {},
   "source": [
    "### H3K4me1"
   ]
  },
  {
   "cell_type": "markdown",
   "id": "e4fa5fe9-5133-45ed-b253-e7a8344c140b",
   "metadata": {},
   "source": [
    "##### Mean"
   ]
  },
  {
   "cell_type": "code",
   "execution_count": 64,
   "id": "ed62c3f1-adfc-4293-b871-b2799094995a",
   "metadata": {},
   "outputs": [
    {
     "name": "stderr",
     "output_type": "stream",
     "text": [
      "Progress for H3K4me1:100%[||||||||||||||||||||||||||||||||||||||||||||||||||||||||||||||||||||||||||||||||||||||||||||||||||||||||||||||||||||||||||||||||||||||||||||||||||||||||||||||||||] Time: 2:57:12 \n"
     ]
    }
   ],
   "source": [
    "H3K4me1_mean_bins = histone_data('H3K4me1', 'human', 'primary_cell', chrom_info_hg38)\n",
    "H3K4me1_mean_bins.add_file_names()\n",
    "H3K4me1_mean_bins.check_files(verbose = True)\n",
    "H3K4me1_mean_bins.subdivide(by = 'bin', window_size = 100000)\n",
    "H3K4me1_mean_bins.process(np.mean)\n",
    "H3K4me1_mean_bins.save('H3K4me1_mean_bins')"
   ]
  },
  {
   "cell_type": "code",
   "execution_count": null,
   "id": "e81ac9bc-9444-4a8c-89f8-26a79141b25e",
   "metadata": {},
   "outputs": [],
   "source": [
    "H3K4me1_mean_genes = histone_data('H3K4me1', 'human', 'primary_cell', chrom_info_hg38)\n",
    "H3K4me1_mean_genes.add_file_names()\n",
    "H3K4me1_mean_genes.check_files(verbose = True)\n",
    "H3K4me1_mean_genes.subdivide(by = 'gene')\n",
    "clear_output()\n",
    "H3K4me1_mean_genes.process(np.mean)\n",
    "H3K4me1_mean_genes.save('H3K4me1_mean_genes')"
   ]
  },
  {
   "cell_type": "markdown",
   "id": "ed4557dc-98f5-4eb6-aad0-db97af3f4395",
   "metadata": {},
   "source": [
    "##### Entropy"
   ]
  },
  {
   "cell_type": "code",
   "execution_count": 70,
   "id": "e8a54baf-a075-4ef3-9071-2f86d72d2b26",
   "metadata": {},
   "outputs": [
    {
     "name": "stderr",
     "output_type": "stream",
     "text": [
      "Progress for H3K4me1:100%[||||||||||||||||||||||||||||||||||||||||||||||||||||||||||||||||||||||||||||||||||||||||||||||||||||||||||||||||||||||||||||||||||||||||||||||||||||||||||||||||||] Time: 4:15:45 \n"
     ]
    }
   ],
   "source": [
    "H3K4me1_entropy = histone_data('H3K4me1','human', 'primary_cell', chrom_info_hg38)\n",
    "H3K4me1_entropy.add_file_names()\n",
    "H3K4me1_entropy.check_files(verbose = True)\n",
    "H3K4me1_entropy.subdivide(by = 'bin', window_size = 100000)\n",
    "H3K4me1_entropy.process(my_entropy)\n",
    "H3K4me1_entropy.save('H3K4me1_entropy')"
   ]
  },
  {
   "cell_type": "markdown",
   "id": "faea1fea-55b9-44db-ba24-c31e1b67d914",
   "metadata": {},
   "source": [
    "### H3K9me3"
   ]
  },
  {
   "cell_type": "markdown",
   "id": "3e657834-a973-496a-943e-2cd2835b8a55",
   "metadata": {},
   "source": [
    "##### Mean"
   ]
  },
  {
   "cell_type": "code",
   "execution_count": 76,
   "id": "19c8f755-aa1c-44de-b68e-40d77ba9bfda",
   "metadata": {},
   "outputs": [
    {
     "name": "stderr",
     "output_type": "stream",
     "text": [
      "Progress for H3K9me3:100%[||||||||||||||||||||||||||||||||||||||||||||||||||||||||||||||||||||||||||||||||||||||||||||||||||||||||||||||||||||||||||||||||||||||||||||||||||||||||||||||||||] Time: 2:19:28 \n"
     ]
    }
   ],
   "source": [
    "H3K9me3_mean_bins = histone_data('H3K9me3', 'human', 'primary_cell', chrom_info_hg38)\n",
    "H3K9me3_mean_bins.add_file_names()\n",
    "H3K9me3_mean_bins.check_files(verbose = True)\n",
    "H3K9me3_mean_bins.subdivide(by = 'bin', window_size = 100000)\n",
    "H3K9me3_mean_bins.process(np.mean)\n",
    "H3K9me3_mean_bins.save('H3K9me3_mean_bins')"
   ]
  },
  {
   "cell_type": "code",
   "execution_count": null,
   "id": "53d24938-160f-4acc-b979-095f9cfc5d67",
   "metadata": {},
   "outputs": [],
   "source": [
    "H3K9me3_mean_genes = histone_data('H3K9me3', 'human', 'primary_cell', chrom_info_hg38)\n",
    "H3K9me3_mean_genes.add_file_names()\n",
    "H3K9me3_mean_genes.check_files(verbose = True)\n",
    "H3K9me3_mean_genes.subdivide(by = 'gene')\n",
    "clear_output()\n",
    "H3K9me3_mean_genes.process(np.mean)\n",
    "H3K9me3_mean_genes.save('H3K9me3_mean_genes')"
   ]
  },
  {
   "cell_type": "markdown",
   "id": "1971f8b0-2ad8-4898-a8df-6f5df76efe4d",
   "metadata": {},
   "source": [
    "##### Entropy"
   ]
  },
  {
   "cell_type": "code",
   "execution_count": 82,
   "id": "5bb3011d-9a6b-4ec0-b8eb-07658ac1f408",
   "metadata": {},
   "outputs": [
    {
     "name": "stderr",
     "output_type": "stream",
     "text": [
      "Progress for H3K9me3:100%[||||||||||||||||||||||||||||||||||||||||||||||||||||||||||||||||||||||||||||||||||||||||||||||||||||||||||||||||||||||||||||||||||||||||||||||||||||||||||||||||||] Time: 3:34:45 \n"
     ]
    }
   ],
   "source": [
    "H3K9me3_entropy_bins = histone_data('H3K9me3','human', 'primary_cell', chrom_info_hg38)\n",
    "H3K9me3_entropy_bins.add_file_names()\n",
    "H3K9me3_entropy_bins.check_files(verbose = True)\n",
    "H3K9me3_entropy_bins.subdivide(by = 'bin', window_size = 100000)\n",
    "H3K9me3_entropy_bins.process(my_entropy)\n",
    "H3K9me3_entropy_bins.save('H3K9me3_entropy_bins')"
   ]
  },
  {
   "cell_type": "markdown",
   "id": "241b2762-ea45-475d-9c06-0863a8cccdb1",
   "metadata": {},
   "source": [
    "### H3K27me3"
   ]
  },
  {
   "cell_type": "markdown",
   "id": "ad2978ea-0eca-4aa1-87f7-f0931f4790dc",
   "metadata": {},
   "source": [
    "##### Mean"
   ]
  },
  {
   "cell_type": "code",
   "execution_count": 88,
   "id": "1ac375ce-512d-400f-840b-3a5d27e6ef4a",
   "metadata": {},
   "outputs": [
    {
     "name": "stderr",
     "output_type": "stream",
     "text": [
      "Progress for H3K27me3:100%[|||||||||||||||||||||||||||||||||||||||||||||||||||||||||||||||||||||||||||||||||||||||||||||||||||||||||||||||||||||||||||||||||||||||||||||||||||||||||||||||||] Time: 2:56:49 \n"
     ]
    }
   ],
   "source": [
    "H3K27me3_mean_bins = histone_data('H3K27me3', 'human', 'primary_cell', chrom_info_hg38)\n",
    "H3K27me3_mean_bins.add_file_names()\n",
    "H3K27me3_mean_bins.check_files(verbose = True)\n",
    "H3K27me3_mean_bins.subdivide(by = 'bin', window_size = 100000)\n",
    "H3K27me3_mean_bins.process(np.mean)\n",
    "H3K27me3_mean_bins.save('H3K27me3_mean_bins')"
   ]
  },
  {
   "cell_type": "code",
   "execution_count": null,
   "id": "ae987ddd-72e8-4f53-b6f5-9a6542c275bb",
   "metadata": {},
   "outputs": [],
   "source": [
    "H3K27me3_mean_genes = histone_data('H3K27me3', 'human', 'primary_cell', chrom_info_hg38)\n",
    "H3K27me3_mean_genes.add_file_names()\n",
    "H3K27me3_mean_genes.check_files(verbose = True)\n",
    "H3K27me3_mean_genes.subdivide(by = 'gene')\n",
    "clear_output()\n",
    "H3K27me3_mean_genes.process(np.mean)\n",
    "H3K27me3_mean_genes.save('H3K27me3_mean_genes')"
   ]
  },
  {
   "cell_type": "markdown",
   "id": "0e8e853a-01f1-4def-837a-30f5d5831350",
   "metadata": {},
   "source": [
    "##### Entropy"
   ]
  },
  {
   "cell_type": "code",
   "execution_count": 95,
   "id": "ebadf669-d1ad-42f4-b170-dd6ba8a605ce",
   "metadata": {},
   "outputs": [
    {
     "name": "stderr",
     "output_type": "stream",
     "text": [
      "Progress for H3K27me3:100%[|||||||||||||||||||||||||||||||||||||||||||||||||||||||||||||||||||||||||||||||||||||||||||||||||||||||||||||||||||||||||||||||||||||||||||||||||||||||||||||||||] Time: 4:52:15 \n"
     ]
    }
   ],
   "source": [
    "H3K27me3_entropy_bins = histone_data('H3K27me3','human', 'primary_cell', chrom_info_hg38)\n",
    "H3K27me3_entropy_bins.add_file_names()\n",
    "H3K27me3_entropy_bins.check_files(verbose = True)\n",
    "H3K27me3_entropy_bins.subdivide(by = 'bin', window_size = 100000)\n",
    "H3K27me3_entropy_bins.process(my_entropy)\n",
    "H3K27me3_entropy_bins.save('H3K27me3_entropy_bins')"
   ]
  },
  {
   "cell_type": "markdown",
   "id": "67d3fc4d-baae-482f-b2d2-6e5059731edd",
   "metadata": {},
   "source": [
    "### H3K36me3"
   ]
  },
  {
   "cell_type": "markdown",
   "id": "98b2b61c-2e7e-4b17-8b98-b1a496ec6779",
   "metadata": {},
   "source": [
    "##### Mean"
   ]
  },
  {
   "cell_type": "code",
   "execution_count": 101,
   "id": "615532e9-eda1-404c-8646-e6e74f9ef527",
   "metadata": {},
   "outputs": [
    {
     "name": "stderr",
     "output_type": "stream",
     "text": [
      "Progress for H3K36me3:100%[|||||||||||||||||||||||||||||||||||||||||||||||||||||||||||||||||||||||||||||||||||||||||||||||||||||||||||||||||||||||||||||||||||||||||||||||||||||||||||||||||] Time: 2:46:23 \n"
     ]
    }
   ],
   "source": [
    "H3K36me3_mean_bins = histone_data('H3K36me3', 'human', 'primary_cell', chrom_info_hg38)\n",
    "H3K36me3_mean_bins.add_file_names()\n",
    "H3K36me3_mean_bins.check_files(verbose = True)\n",
    "H3K36me3_mean_bins.subdivide(by = 'bin', window_size = 100000)\n",
    "clear_output()\n",
    "H3K36me3_mean_bins.process(np.mean)\n",
    "H3K36me3_mean_bins.save('H3K36me3_mean_bins')"
   ]
  },
  {
   "cell_type": "code",
   "execution_count": null,
   "id": "3358b864-a896-4755-8b37-f720081539af",
   "metadata": {},
   "outputs": [],
   "source": [
    "H3K36me3_mean_genes = histone_data('H3K36me3', 'human', 'primary_cell', chrom_info_hg38)\n",
    "H3K36me3_mean_genes.add_file_names()\n",
    "H3K36me3_mean_genes.check_files(verbose = True)\n",
    "H3K36me3_mean_genes.subdivide(by = 'gene')\n",
    "H3K36me3_mean_genes.process(np.mean)\n",
    "H3K36me3_mean_genes.save('H3K36me3_mean_genes')"
   ]
  },
  {
   "cell_type": "markdown",
   "id": "9dc60ba5-54cd-495d-9b69-8c947d415c5b",
   "metadata": {},
   "source": [
    "##### Entropy"
   ]
  },
  {
   "cell_type": "code",
   "execution_count": 107,
   "id": "1c602e9a-f9c4-4455-8d3b-9bb146596f70",
   "metadata": {},
   "outputs": [
    {
     "name": "stderr",
     "output_type": "stream",
     "text": [
      "Progress for H3K36me3:100%[|||||||||||||||||||||||||||||||||||||||||||||||||||||||||||||||||||||||||||||||||||||||||||||||||||||||||||||||||||||||||||||||||||||||||||||||||||||||||||||||||] Time: 3:50:30 \n"
     ]
    }
   ],
   "source": [
    "H3K36me3_entropy_bins = histone_data('H3K36me3','human', 'primary_cell', chrom_info_hg38)\n",
    "H3K36me3_entropy_bins.add_file_names()\n",
    "H3K36me3_entropy_bins.check_files(verbose = True)\n",
    "H3K36me3_entropy_bins.subdivide(by = 'bin', window_size = 100000)\n",
    "H3K36me3_entropy_bins.process(my_entropy)\n",
    "H3K36me3_entropy_bins.save('H3K36me3_entropy_bins')"
   ]
  },
  {
   "cell_type": "markdown",
   "id": "436a9e62-8930-41ae-bbba-5c6aa3e99ecf",
   "metadata": {},
   "source": [
    "### _______________________________________________________________________________________________________________________________________________________________________________________________________________"
   ]
  },
  {
   "cell_type": "code",
   "execution_count": null,
   "id": "cb82d812-4d12-4352-8e28-42438efd8b9b",
   "metadata": {},
   "outputs": [],
   "source": [
    "H3K4me3_mean_bins = histone_data('H3K4me3', 'human', 'tissue', chrom_info_hg38)\n",
    "H3K4me3_mean_bins.add_file_names()\n",
    "H3K4me3_mean_bins.check_files(verbose = True)\n",
    "H3K4me3_mean_bins.subdivide(by = 'bin', window_size = 100000)\n",
    "H3K4me3_mean_bins.process(np.mean)\n",
    "H3K4me3_mean_bins.save('H3K4me3_mean_bins')"
   ]
  },
  {
   "cell_type": "code",
   "execution_count": 6,
   "id": "c9f9fa7e-ac9e-4dcc-822f-e726de3aba85",
   "metadata": {},
   "outputs": [],
   "source": [
    "H3K4me3_mean_bins = histone_data('H3K4me3', 'human', 'tissue', chrom_info_hg38)"
   ]
  },
  {
   "cell_type": "code",
   "execution_count": 7,
   "id": "e1dee66a-97ca-4f3d-b436-2a6fe13453f2",
   "metadata": {},
   "outputs": [],
   "source": [
    "H3K4me3_mean_bins.add_file_names()"
   ]
  },
  {
   "cell_type": "code",
   "execution_count": 13,
   "id": "fce66b59-a593-4079-8f0d-8d78074d09c7",
   "metadata": {},
   "outputs": [
    {
     "name": "stderr",
     "output_type": "stream",
     "text": [
      "INFO:root:Extracted GTF attributes: ['gene_id', 'gene_type', 'gene_name', 'level', 'hgnc_id', 'havana_gene', 'transcript_id', 'transcript_type', 'transcript_name', 'transcript_support_level', 'tag', 'havana_transcript', 'exon_number', 'exon_id', 'ont', 'protein_id', 'ccdsid']\n"
     ]
    }
   ],
   "source": [
    "H3K4me3_mean_bins.subdivide(by = 'gene')"
   ]
  },
  {
   "cell_type": "code",
   "execution_count": null,
   "id": "d124d824-ed78-4ce9-b3d1-33d8d65023fd",
   "metadata": {},
   "outputs": [],
   "source": []
  }
 ],
 "metadata": {
  "kernelspec": {
   "display_name": "Python 3 (ipykernel)",
   "language": "python",
   "name": "python3"
  },
  "language_info": {
   "codemirror_mode": {
    "name": "ipython",
    "version": 3
   },
   "file_extension": ".py",
   "mimetype": "text/x-python",
   "name": "python",
   "nbconvert_exporter": "python",
   "pygments_lexer": "ipython3",
   "version": "3.9.4"
  }
 },
 "nbformat": 4,
 "nbformat_minor": 5
}

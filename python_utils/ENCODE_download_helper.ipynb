{
 "cells": [
  {
   "cell_type": "markdown",
   "id": "fd0579df-4daf-46cd-8d80-138037a48f75",
   "metadata": {},
   "source": [
    "# Helper to download histone ChIP-seq data from ENCODE "
   ]
  },
  {
   "cell_type": "markdown",
   "id": "125bdb3c-a4d1-43c7-a03b-cf6abd41fee5",
   "metadata": {},
   "source": [
    "This script loads the metadata associated with files.txt obtained from the ENCODE cart, filters according to the files of interest, downloads from the URLs, and creates a metadata summary."
   ]
  },
  {
   "cell_type": "code",
   "execution_count": 1,
   "id": "17ffead9-dd87-417b-8ceb-bc8f81f2a847",
   "metadata": {},
   "outputs": [],
   "source": [
    "import numpy as np\n",
    "import pandas as pd\n",
    "import urllib.request"
   ]
  },
  {
   "cell_type": "markdown",
   "id": "825b65f5-c6c5-4323-9acf-38b948b4658a",
   "metadata": {},
   "source": [
    "## Human ChIP-Seq"
   ]
  },
  {
   "cell_type": "code",
   "execution_count": 2,
   "id": "bdfaead4-6b44-4759-bce5-890a23ea432b",
   "metadata": {},
   "outputs": [],
   "source": [
    "organism = 'human'"
   ]
  },
  {
   "cell_type": "markdown",
   "id": "54d9bff6-efa0-4acb-a67f-bf6412e6f14d",
   "metadata": {},
   "source": [
    "### Tissue"
   ]
  },
  {
   "cell_type": "code",
   "execution_count": 3,
   "id": "9436fd53-6fb1-4ecc-80a3-9f1ba632705d",
   "metadata": {},
   "outputs": [],
   "source": [
    "data_type = 'tissue'"
   ]
  },
  {
   "cell_type": "markdown",
   "id": "049acf69-d2a8-4392-94ef-c373a9085ce4",
   "metadata": {},
   "source": [
    "#### Metadata summary"
   ]
  },
  {
   "cell_type": "code",
   "execution_count": 4,
   "id": "6e00eded-3b38-4f49-95b3-6c797fafd8ee",
   "metadata": {},
   "outputs": [],
   "source": [
    "metadata = pd.read_csv('histone_metadata/' + organism + '/' + data_type + '/metadata.tsv', sep = '\\t', index_col = 0, low_memory=False)"
   ]
  },
  {
   "cell_type": "code",
   "execution_count": 13,
   "id": "12d94a28-421f-4637-b88a-641940d9822d",
   "metadata": {},
   "outputs": [],
   "source": [
    "#metadata = metadata[metadata['Audit ERROR'].isnull()]"
   ]
  },
  {
   "cell_type": "code",
   "execution_count": 5,
   "id": "3f6906b5-07e4-4af8-afe8-8bcc21ffe0d0",
   "metadata": {},
   "outputs": [],
   "source": [
    "metadata = metadata[metadata['File type'] == 'bigWig']"
   ]
  },
  {
   "cell_type": "code",
   "execution_count": 6,
   "id": "7dc78478-5dcd-4916-9676-31cc5ad7339c",
   "metadata": {},
   "outputs": [],
   "source": [
    "#metadata = metadata[metadata['Output type'] == 'fold change over control']"
   ]
  },
  {
   "cell_type": "code",
   "execution_count": 7,
   "id": "a6ffd3c9-d00a-46fb-93fa-6a2b19590374",
   "metadata": {},
   "outputs": [],
   "source": [
    "metadata = metadata[metadata['File assembly'] == 'GRCh38']"
   ]
  },
  {
   "cell_type": "code",
   "execution_count": 8,
   "id": "97d9ff16-6511-433f-a15a-5945f479bf85",
   "metadata": {},
   "outputs": [],
   "source": [
    "metadata = metadata[metadata['File analysis status'] == 'released']"
   ]
  },
  {
   "cell_type": "code",
   "execution_count": 9,
   "id": "5f21cbe7-a09c-4b09-abed-70a53c5e0e55",
   "metadata": {},
   "outputs": [],
   "source": [
    "metadata = metadata[metadata['Biosample treatments'].isnull()]"
   ]
  },
  {
   "cell_type": "code",
   "execution_count": 11,
   "id": "c3db5b08-4f56-4dca-8587-8a75fba8221c",
   "metadata": {},
   "outputs": [],
   "source": [
    "metadata['Technical replicate(s)'] = metadata['Technical replicate(s)'].apply(lambda x: [int(t[-1]) for t in x.split(',', 1)])\n",
    "metadata['Biological replicate(s)'] = metadata['Biological replicate(s)'].apply(lambda x: [int(b[-1]) for b in x.split(',', 1)])"
   ]
  },
  {
   "cell_type": "code",
   "execution_count": 12,
   "id": "0de87653-15b6-49d4-bd7d-0a787fb91940",
   "metadata": {},
   "outputs": [],
   "source": [
    "metadata_summary = metadata[['Biosample term name', 'Experiment accession', 'Experiment target','Biological replicate(s)', 'Technical replicate(s)', 'Audit WARNING', 'Audit NOT_COMPLIANT','Audit ERROR']]"
   ]
  },
  {
   "cell_type": "code",
   "execution_count": 13,
   "id": "4e21e973-93d2-4185-8f9d-47afcc1bdd94",
   "metadata": {},
   "outputs": [],
   "source": [
    "report = pd.read_csv('histone_metadata/' + organism + '/' + data_type + '/report.tsv', sep = '\\t', header = 1, index_col = 1, low_memory=False)"
   ]
  },
  {
   "cell_type": "code",
   "execution_count": 14,
   "id": "8eb8e6f8-6c38-403b-b766-38e5dff6b401",
   "metadata": {},
   "outputs": [],
   "source": [
    "normal_gestational_week = 40\n",
    "ages = pd.DataFrame(np.empty([report.shape[0],1]), columns = ['age',], index = report.index)\n",
    "for sample in report.index:\n",
    "    age_string = report.loc[sample,'Biosample age']\n",
    "    if type(age_string) == float or type(age_string) == int:\n",
    "        age = age_string\n",
    "        if age > 0 and age.is_integer():\n",
    "            ages.loc[sample] = age + 0.5\n",
    "        else: \n",
    "            ages.loc[sample] = age\n",
    "    elif 'years' in age_string and 'above' not in age_string:\n",
    "        age = float(age_string.split(' ', 1)[0])\n",
    "        if age > 0 and age.is_integer():\n",
    "            ages.loc[sample] = age + 0.5\n",
    "        else: \n",
    "            ages.loc[sample] = age\n",
    "    elif 'weeks' in age_string:\n",
    "        age = (float(age_string.split(' ', 1)[0]) - normal_gestational_week)*7/365\n",
    "        ages.loc[sample] = age \n",
    "    elif 'days' in age_string:\n",
    "        age = (float(age_string.split(' ', 1)[0]) - normal_gestational_week*7)/365\n",
    "        ages.loc[sample] = age \n",
    "    else:\n",
    "        ages.loc[sample] = np.nan"
   ]
  },
  {
   "cell_type": "code",
   "execution_count": 15,
   "id": "7bb3d71f-174c-463b-886a-b91b0e2aaefb",
   "metadata": {},
   "outputs": [],
   "source": [
    "gender = pd.DataFrame(np.empty([report.shape[0],1]), columns = ['gender',], index = report.index)\n",
    "for sample in report.index:\n",
    "    gender_string = report.loc[sample,'Biosample summary']\n",
    "    if 'female' in gender_string:\n",
    "        gender.loc[sample] = 'F' \n",
    "    elif 'male' in gender_string:\n",
    "        gender.loc[sample] = 'M'    \n",
    "    else:\n",
    "        gender.loc[sample] = np.nan   "
   ]
  },
  {
   "cell_type": "code",
   "execution_count": 16,
   "id": "0a4c7684-0e3e-4c1e-934a-0c673f21903f",
   "metadata": {},
   "outputs": [],
   "source": [
    "ages = ages.loc[metadata_summary['Experiment accession']]\n",
    "gender = gender.loc[metadata_summary['Experiment accession']]\n",
    "description = report['Description'].loc[metadata_summary['Experiment accession']]\n",
    "biosample = report['Biosample accession'].loc[metadata_summary['Experiment accession']]\n",
    "ages.index = metadata_summary.index\n",
    "gender.index = metadata_summary.index\n",
    "description.index = metadata_summary.index\n",
    "biosample.index = metadata_summary.index"
   ]
  },
  {
   "cell_type": "code",
   "execution_count": 17,
   "id": "249a82b9-09ee-4039-8364-bdfb9e60eeb0",
   "metadata": {},
   "outputs": [],
   "source": [
    "metadata_summary = pd.concat([ages, gender, metadata_summary, biosample, description], axis = 1)"
   ]
  },
  {
   "cell_type": "code",
   "execution_count": 18,
   "id": "feb7c6f5-7b44-47ca-a4f8-79bd37240673",
   "metadata": {},
   "outputs": [],
   "source": [
    "metadata_summary = metadata_summary.dropna(subset=['age'])"
   ]
  },
  {
   "cell_type": "code",
   "execution_count": 19,
   "id": "bdf2f184-6d45-4522-9a4a-237a5e9d5844",
   "metadata": {},
   "outputs": [],
   "source": [
    "metadata_summary.to_pickle('histone_metadata/' + organism + '/' + data_type + '/metadata_summary.pkl')"
   ]
  },
  {
   "cell_type": "markdown",
   "id": "4e9855e6-5b57-4e7c-982d-cccc5c5a416c",
   "metadata": {},
   "source": [
    "#### Download files"
   ]
  },
  {
   "cell_type": "code",
   "execution_count": 20,
   "id": "9218ac6f-120b-4550-a11d-b6b9fe91d779",
   "metadata": {},
   "outputs": [],
   "source": [
    "metadata = metadata.loc[metadata_summary.index]"
   ]
  },
  {
   "cell_type": "code",
   "execution_count": 21,
   "id": "2a4c0cee-2f78-4027-847e-5c569c78a94d",
   "metadata": {},
   "outputs": [],
   "source": [
    "for histone_mark in np.unique(metadata['Experiment target']):\n",
    "    \n",
    "    metadata_mark = metadata[metadata['Experiment target'] == histone_mark]\n",
    "    \n",
    "    #to download from a txt file using the terminal\n",
    "    file = open('histone_data/' + organism + '/' + data_type + '/' + histone_mark[:-6] + \"/raw_data/files_\" + histone_mark[:-6] + \".txt\", \"w\")\n",
    "    for url in metadata_mark['File download URL']:\n",
    "        file.write(url + '\\n')\n",
    "    file.close()"
   ]
  },
  {
   "cell_type": "markdown",
   "id": "68bcbed3-66fa-45d4-a2be-eb1664dd4c65",
   "metadata": {},
   "source": [
    "### Primary Cell"
   ]
  },
  {
   "cell_type": "code",
   "execution_count": 22,
   "id": "0f60458c-3bfc-4c3c-b88a-888fa06cb616",
   "metadata": {},
   "outputs": [],
   "source": [
    "data_type = 'primary_cell'"
   ]
  },
  {
   "cell_type": "markdown",
   "id": "99b8272e-da9e-42c0-aa85-6f2c0e9b946d",
   "metadata": {},
   "source": [
    "#### Metadata summary"
   ]
  },
  {
   "cell_type": "code",
   "execution_count": 23,
   "id": "503f72f0-e8b9-4499-99d2-da416d2f54ec",
   "metadata": {},
   "outputs": [],
   "source": [
    "metadata = pd.read_csv('histone_metadata/' + organism + '/' + data_type + '/metadata.tsv', sep = '\\t', index_col = 0, low_memory=False)"
   ]
  },
  {
   "cell_type": "code",
   "execution_count": 24,
   "id": "6da169c7-e5ae-4638-b877-ddf215afe928",
   "metadata": {},
   "outputs": [],
   "source": [
    "#metadata = metadata[metadata['Audit ERROR'].isnull()]"
   ]
  },
  {
   "cell_type": "code",
   "execution_count": 25,
   "id": "af0cc5d7-38e6-4684-a029-1561619cb39a",
   "metadata": {},
   "outputs": [],
   "source": [
    "metadata = metadata[metadata['File type'] == 'bigWig']"
   ]
  },
  {
   "cell_type": "code",
   "execution_count": 26,
   "id": "18033121-95de-414d-8ca2-5548b9f959b1",
   "metadata": {},
   "outputs": [],
   "source": [
    "#metadata = metadata[metadata['Output type'] == 'fold change over control']"
   ]
  },
  {
   "cell_type": "code",
   "execution_count": 27,
   "id": "4160690e-b930-4028-a773-2d86d09964ba",
   "metadata": {},
   "outputs": [],
   "source": [
    "metadata = metadata[metadata['File assembly'] == 'GRCh38']"
   ]
  },
  {
   "cell_type": "code",
   "execution_count": 28,
   "id": "b4c4742c-5e4a-499d-9fd9-e69229889923",
   "metadata": {},
   "outputs": [],
   "source": [
    "metadata = metadata[metadata['File analysis status'] == 'released']"
   ]
  },
  {
   "cell_type": "code",
   "execution_count": 29,
   "id": "a6708ae2-84e3-4267-b6ac-7435531f5318",
   "metadata": {},
   "outputs": [],
   "source": [
    "metadata = metadata[metadata['Biosample treatments'].isnull()]"
   ]
  },
  {
   "cell_type": "code",
   "execution_count": 30,
   "id": "926ef011-7a31-4750-ac35-03261bf7e0c1",
   "metadata": {},
   "outputs": [],
   "source": [
    "metadata['Technical replicate(s)'] = metadata['Technical replicate(s)'].apply(lambda x: [int(t[-1]) for t in x.split(',', 1)])\n",
    "metadata['Biological replicate(s)'] = metadata['Biological replicate(s)'].apply(lambda x: [int(b[-1]) for b in x.split(',', 1)])"
   ]
  },
  {
   "cell_type": "code",
   "execution_count": 31,
   "id": "197f5806-7e0c-4bf1-b241-48a018264344",
   "metadata": {},
   "outputs": [],
   "source": [
    "metadata_summary = metadata[['Biosample term name', 'Experiment accession', 'Experiment target','Biological replicate(s)', 'Technical replicate(s)', 'Audit WARNING', 'Audit NOT_COMPLIANT','Audit ERROR']]"
   ]
  },
  {
   "cell_type": "code",
   "execution_count": 32,
   "id": "2a6b913a-51b0-4c38-b53e-ef41b859d497",
   "metadata": {},
   "outputs": [],
   "source": [
    "report = pd.read_csv('histone_metadata/' + organism + '/' + data_type + '/report.tsv', sep = '\\t', header = 1, index_col = 1, low_memory=False)"
   ]
  },
  {
   "cell_type": "code",
   "execution_count": 33,
   "id": "8a5c09bc-8bf8-4675-a238-54934c3bb12c",
   "metadata": {},
   "outputs": [],
   "source": [
    "normal_gestational_week = 40\n",
    "ages = pd.DataFrame(np.empty([report.shape[0],1]), columns = ['age',], index = report.index)\n",
    "for sample in report.index:\n",
    "    age_string = report.loc[sample,'Biosample age']\n",
    "    if type(age_string) == float or type(age_string) == int:\n",
    "        age = age_string\n",
    "        if age > 0 and age.is_integer():\n",
    "            ages.loc[sample] = age + 0.5\n",
    "        else: \n",
    "            ages.loc[sample] = age\n",
    "    elif 'years' in age_string and 'above' not in age_string:\n",
    "        age = float(age_string.split(' ', 1)[0])\n",
    "        if age > 0 and age.is_integer():\n",
    "            ages.loc[sample] = age + 0.5\n",
    "        else: \n",
    "            ages.loc[sample] = age  \n",
    "    elif 'weeks' in age_string:\n",
    "        age = (float(age_string.split(' ', 1)[0]) - normal_gestational_week)*7/365\n",
    "        ages.loc[sample] = age \n",
    "    elif 'days' in age_string:\n",
    "        if age_string == '2-4 days': #this just codes these cells as 3 days old\n",
    "            age = (3 - normal_gestational_week*7)/365 \n",
    "            ages.loc[sample] = age \n",
    "            continue\n",
    "        age = (float(age_string.split(' ', 1)[0]) - normal_gestational_week*7)/365\n",
    "        ages.loc[sample] = age \n",
    "    else:\n",
    "        ages.loc[sample] = np.nan"
   ]
  },
  {
   "cell_type": "code",
   "execution_count": 34,
   "id": "4b0cce99-c5a7-4db6-b08f-c7e954ed266c",
   "metadata": {},
   "outputs": [],
   "source": [
    "gender = pd.DataFrame(np.empty([report.shape[0],1]), columns = ['gender',], index = report.index)\n",
    "for sample in report.index:\n",
    "    gender_string = report.loc[sample,'Biosample summary']\n",
    "    if 'female' in gender_string:\n",
    "        gender.loc[sample] = 'F' \n",
    "    elif 'male' in gender_string:\n",
    "        gender.loc[sample] = 'M'    \n",
    "    else:\n",
    "        gender.loc[sample] = np.nan   "
   ]
  },
  {
   "cell_type": "code",
   "execution_count": 35,
   "id": "560ca377-2a70-4642-8ef6-f66e9e429d8f",
   "metadata": {},
   "outputs": [],
   "source": [
    "ages = ages.loc[metadata_summary['Experiment accession']]\n",
    "gender = gender.loc[metadata_summary['Experiment accession']]\n",
    "description = report['Description'].loc[metadata_summary['Experiment accession']]\n",
    "biosample = report['Biosample accession'].loc[metadata_summary['Experiment accession']]\n",
    "ages.index = metadata_summary.index\n",
    "gender.index = metadata_summary.index\n",
    "description.index = metadata_summary.index\n",
    "biosample.index = metadata_summary.index"
   ]
  },
  {
   "cell_type": "code",
   "execution_count": 36,
   "id": "61682aa1-d395-4323-961d-faadb5e5a58d",
   "metadata": {},
   "outputs": [],
   "source": [
    "metadata_summary = pd.concat([ages, gender, metadata_summary, biosample, description], axis = 1)"
   ]
  },
  {
   "cell_type": "code",
   "execution_count": 37,
   "id": "3c9c40a7-41e7-41b9-a607-aa3568eb7714",
   "metadata": {},
   "outputs": [],
   "source": [
    "metadata_summary = metadata_summary.dropna(subset=['age'])"
   ]
  },
  {
   "cell_type": "code",
   "execution_count": 38,
   "id": "b8942c86-935c-47a6-bbc9-252cbd711719",
   "metadata": {},
   "outputs": [],
   "source": [
    "metadata_summary.to_pickle('histone_metadata/' + organism + '/' + data_type + '/metadata_summary.pkl')"
   ]
  },
  {
   "cell_type": "markdown",
   "id": "4c55b9da-6860-44a5-8ab5-06fecc483c4a",
   "metadata": {},
   "source": [
    "#### Download files"
   ]
  },
  {
   "cell_type": "code",
   "execution_count": 39,
   "id": "acdad8eb-5fd5-4b73-bf5b-f4930d81aebe",
   "metadata": {},
   "outputs": [],
   "source": [
    "metadata = metadata.loc[metadata_summary.index]"
   ]
  },
  {
   "cell_type": "code",
   "execution_count": 40,
   "id": "5582bc7e-230d-4a55-aa6f-5fd6457dd47e",
   "metadata": {},
   "outputs": [],
   "source": [
    "for histone_mark in np.unique(metadata['Experiment target']):\n",
    "    \n",
    "    metadata_mark = metadata[metadata['Experiment target'] == histone_mark]\n",
    "    \n",
    "    #to download from a txt file using the terminal\n",
    "    file = open('histone_data/' + organism + '/' + data_type + '/' + histone_mark[:-6] + \"/raw_data/files_\" + histone_mark[:-6] + \".txt\", \"w\")\n",
    "    for url in metadata_mark['File download URL']:\n",
    "        file.write(url + '\\n')\n",
    "    file.close()"
   ]
  }
 ],
 "metadata": {
  "kernelspec": {
   "display_name": "Python 3 (ipykernel)",
   "language": "python",
   "name": "python3"
  },
  "language_info": {
   "codemirror_mode": {
    "name": "ipython",
    "version": 3
   },
   "file_extension": ".py",
   "mimetype": "text/x-python",
   "name": "python",
   "nbconvert_exporter": "python",
   "pygments_lexer": "ipython3",
   "version": "3.9.4"
  }
 },
 "nbformat": 4,
 "nbformat_minor": 5
}

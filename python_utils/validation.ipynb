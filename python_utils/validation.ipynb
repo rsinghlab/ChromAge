{
 "cells": [
  {
   "cell_type": "markdown",
   "id": "af904e7c-08d8-4bee-819b-d4ddbdf7cdcc",
   "metadata": {},
   "source": [
    "# Model selection and validation"
   ]
  },
  {
   "cell_type": "markdown",
   "id": "e27bdea2-f0e2-48a4-8801-016c94a6ee63",
   "metadata": {},
   "source": [
    "This script separates the data into train and test splits, conducts cross validation to determine the best performing model per histone data and compression function."
   ]
  },
  {
   "cell_type": "markdown",
   "id": "1633f868-cc84-4b5a-83e4-a738427894a1",
   "metadata": {},
   "source": [
    "### Setup"
   ]
  },
  {
   "cell_type": "code",
   "execution_count": 3,
   "id": "0402d148-2ba8-45df-bb15-ee58afe81b8d",
   "metadata": {},
   "outputs": [],
   "source": [
    "import numpy as np\n",
    "import pandas as pd\n",
    "import random\n",
    "import pickle\n",
    "from my_functions import *\n",
    "\n",
    "from os import listdir\n",
    "from os.path import isfile, join\n",
    "\n",
    "import matplotlib.pyplot as plt\n",
    "import seaborn as sns\n",
    "\n",
    "from progressbar import ProgressBar, Bar, Percentage, AnimatedMarker, AdaptiveETA\n",
    "from IPython.display import clear_output\n",
    "\n",
    "from sklearn.base import BaseEstimator, TransformerMixin\n",
    "from sklearn.compose import TransformedTargetRegressor\n",
    "from sklearn.pipeline import Pipeline\n",
    "from sklearn.linear_model import ElasticNet, ElasticNetCV\n",
    "from sklearn.svm import SVR\n",
    "from sklearn.ensemble import RandomForestRegressor, GradientBoostingRegressor\n",
    "from sklearn.neighbors import KNeighborsRegressor\n",
    "from sklearn.model_selection import train_test_split, KFold, cross_validate, GridSearchCV\n",
    "from sklearn.preprocessing import StandardScaler, RobustScaler, QuantileTransformer\n",
    "from sklearn.impute import KNNImputer\n",
    "\n",
    "import tensorflow_docs as tfdocs\n",
    "import tensorflow as tf\n",
    "from tensorflow.keras.wrappers.scikit_learn import KerasRegressor\n",
    "from tensorflow.keras import regularizers, datasets, layers, models\n",
    "from tensorflow.keras.models import Sequential, Model\n",
    "from tensorflow.keras.layers import Embedding, Bidirectional,Conv1DTranspose, ActivityRegularization, Input, LSTM, ReLU, GRU, multiply, Lambda, PReLU, SimpleRNN, Dense, Activation, BatchNormalization, Conv2D, Conv1D, Flatten, LeakyReLU, Dropout, MaxPooling2D, MaxPooling1D, Reshape"
   ]
  },
  {
   "cell_type": "code",
   "execution_count": 4,
   "id": "721bce8c-964e-40e3-bcde-dab26a4cabcf",
   "metadata": {},
   "outputs": [],
   "source": [
    "#random seed for reproducibility\n",
    "tf.random.set_seed(42)\n",
    "random.seed(42)"
   ]
  },
  {
   "cell_type": "code",
   "execution_count": 1,
   "id": "5a6be57a-1e26-41d7-9c5f-ad5f57af309b",
   "metadata": {},
   "outputs": [],
   "source": [
    "def filter_metadata(metadata, cancer = False, biological_replicates = False):\n",
    "    \n",
    "    #keep or remove cancer samples\n",
    "    cancer_indexes = []\n",
    "    for i in metadata[metadata.Description.notnull()].index:\n",
    "        description = metadata.loc[i].Description\n",
    "        if 'cancerous' in description or 'oma' in description:\n",
    "            cancer_indexes.append(i)  \n",
    "    if cancer == True: \n",
    "        metadata = metadata.loc[cancer_indexes]\n",
    "    else:\n",
    "        metadata = metadata.drop(cancer_indexes)\n",
    "    \n",
    "    #keep or remove biological replicates\n",
    "    biological_replicate_experiments = metadata.groupby(['Experiment accession']).count()[metadata.groupby(['Experiment accession']).count()['Biological replicate(s)']>1].index\n",
    "    if biological_replicates == True:\n",
    "        metadata = metadata[metadata['Experiment accession'].isin(biological_replicate_experiments)]\n",
    "    else:\n",
    "        metadata = metadata[~metadata['Experiment accession'].isin(biological_replicate_experiments)]\n",
    "    \n",
    "    return metadata"
   ]
  },
  {
   "cell_type": "code",
   "execution_count": 6,
   "id": "d2ca9370-9f89-4d06-8e7c-ccae9fb58e3d",
   "metadata": {},
   "outputs": [],
   "source": [
    "def validate_classical_models(histone, organism, data_type, model_list, scaler_list, age_transform_list, folds = 5):\n",
    "    \n",
    "    #summary\n",
    "    summary_df = pd.DataFrame(columns = ['Histone', 'Function', 'Scaler', 'Age Transform', 'Model', 'Mean MAE', 'Std MAE', 'Mean MSE', 'Std MSE', 'Mean R2', 'Std R2'])\n",
    "    \n",
    "    #get file names for all the compressed histone_data_objects\n",
    "    directory = 'histone_data/' + organism + '/' + data_type + '/' + histone +'/processed_data/'\n",
    "    histone_files = [f for f in listdir(directory) if isfile(join(directory, f))]\n",
    "    histone_files = [f for f in histone_files if histone in f]\n",
    "    \n",
    "    #load metadata without the cancer samples\n",
    "    metadata = pd.read_pickle('histone_metadata/' + organism + '/' + data_type + '/metadata_summary.pkl') \n",
    "    metadata = filter_metadata(metadata)\n",
    "    \n",
    "    #code to get a progress bar\n",
    "    widgets = ['Progress: ', Percentage(), '[', Bar(marker=AnimatedMarker()), ']', ' ', AdaptiveETA(), ' ']\n",
    "    pbar_maxval = len(histone_files)*len(model_list)*len(scaler_list)*len(age_transform_list)\n",
    "    pbar = ProgressBar(widgets=widgets, maxval = pbar_maxval).start()\n",
    "    count = 0\n",
    "    \n",
    "    #X-fold CV\n",
    "    cv = KFold(n_splits=folds, random_state=42, shuffle=True)\n",
    "    \n",
    "    for file in histone_files:\n",
    "        \n",
    "        histone_data_object = pickle.load(open(directory + file, 'rb'))\n",
    "        \n",
    "        #ensures both X and y have same samples\n",
    "        X = histone_data_object.df\n",
    "        samples = np.intersect1d(X.index, metadata.index)\n",
    "        y = metadata.loc[samples].age\n",
    "        X = X.loc[y.index]\n",
    "        \n",
    "        X_train, X_test, y_train, y_test = train_test_split(X, y, test_size = 0.2, random_state = 42)        \n",
    "        \n",
    "        #loop through the different age transformers\n",
    "        for age_transform in age_transform_list:\n",
    "\n",
    "            #loop through the different scaling methods\n",
    "            for scaler in scaler_list:\n",
    "\n",
    "                #loop through the models doing a 10-fold CV\n",
    "                for model_name in model_list:\n",
    "\n",
    "                    pipeline = Pipeline(steps = [('imputer', KNNImputer()), scaler, model_name])\n",
    "                    model = TransformedTargetRegressor(regressor = pipeline, transformer = age_transform[1], check_inverse = False)\n",
    "                    results = cross_validate(model, X_train, y_train, cv = cv, scoring = {'mae':'neg_median_absolute_error', 'mse':'neg_mean_squared_error', 'r2':'r2'})\n",
    "                    \n",
    "                    #evaluation metrics\n",
    "                    mae = np.mean(np.abs(results['test_mae']))\n",
    "                    std_mae = np.std(np.abs(results['test_mae']))\n",
    "                    mse = np.mean(np.abs(results['test_mse']))\n",
    "                    std_mse = np.std(np.abs(results['test_mse']))\n",
    "                    r2 = np.mean(results['test_r2'])\n",
    "                    std_r2 = np.std(results['test_r2'])\n",
    "                    \n",
    "                    #update progress bar\n",
    "                    clear_output()\n",
    "                    pbar.update(count+1)\n",
    "                    count+=1\n",
    "                    \n",
    "                    #add all the results to one row of the \n",
    "                    summary_row =  pd.Series([histone, histone_data_object.function, scaler[0], age_transform[0], model_name[0], mae, std_mae, mse, std_mse, r2, std_r2], index = summary_df.columns)\n",
    "                    summary_df = summary_df.append(summary_row, ignore_index = True)\n",
    "\n",
    "    #stop progress bar\n",
    "    pbar.finish()\n",
    "\n",
    "    return summary_df"
   ]
  },
  {
   "cell_type": "code",
   "execution_count": 7,
   "id": "7125f065-4619-4570-8721-0db4a6884d6e",
   "metadata": {},
   "outputs": [],
   "source": [
    "class Blank(BaseEstimator, TransformerMixin):\n",
    "    \n",
    "    def fit(self, X, y = None):\n",
    "        return self\n",
    "\n",
    "    def transform(self, X, y = None):\n",
    "        return X\n",
    "    \n",
    "    def inverse_transform(self, X, y = None):\n",
    "        return X"
   ]
  },
  {
   "cell_type": "code",
   "execution_count": 8,
   "id": "c58e6ab1-fd76-4d3a-b3c8-35f7cee44959",
   "metadata": {},
   "outputs": [],
   "source": [
    "class LogLinearTransformer(BaseEstimator, TransformerMixin):\n",
    "    \n",
    "    def __init__(self, adult_age = 20):\n",
    "        self.adult_age = adult_age\n",
    "\n",
    "    def fit(self, target):\n",
    "        return self\n",
    "\n",
    "    def transform(self, target):\n",
    "        target_ = target.copy().astype(float)\n",
    "        for i in range(len(target_)):\n",
    "            if target_[i] < self.adult_age:\n",
    "                target_[i] = np.log((target_[i] + 1)/(self.adult_age + 1))\n",
    "            else:\n",
    "                target_[i] = (target_[i] - self.adult_age)/(1 + self.adult_age)\n",
    "        return target_\n",
    "    \n",
    "    def inverse_transform(self, target):\n",
    "        target_ = target.copy().astype(float)\n",
    "        for i in range(len(target_)):\n",
    "            if target_[i] < 0:\n",
    "                target_[i] = (1 + self.adult_age)*(np.exp(target_[i]))-1\n",
    "            else:\n",
    "                target_[i] = (1 + self.adult_age)*target_[i] + self.adult_age\n",
    "        return target_"
   ]
  },
  {
   "cell_type": "code",
   "execution_count": 9,
   "id": "088cc766-01e9-4eb7-afb1-9cad3d2ed254",
   "metadata": {},
   "outputs": [],
   "source": [
    "class SigmoidTransformer(BaseEstimator, TransformerMixin):\n",
    "    \n",
    "    def __init__(self, max_lifespan = 122, alpha = 1):\n",
    "        self.max_lifespan = max_lifespan\n",
    "        self.alpha = alpha\n",
    "        self.gestation_time = 40*7/365\n",
    "\n",
    "    def fit(self, target):\n",
    "        return self\n",
    "\n",
    "    def transform(self, target):\n",
    "        target_ = target.copy().astype(float)\n",
    "        target_ = target_ + self.gestation_time #make sure that all ages are positive\n",
    "        target_ = target_/self.max_lifespan\n",
    "        target_ = np.log(target_/(1-target_))/self.alpha\n",
    "        return target_\n",
    "    \n",
    "    def inverse_transform(self, target):\n",
    "        target_ = target.copy().astype(float)\n",
    "        target_ = 1/(1 + np.exp(-target_*self.alpha))\n",
    "        target_ = target_ * self.max_lifespan - self.gestation_time\n",
    "        return target_"
   ]
  },
  {
   "cell_type": "code",
   "execution_count": 10,
   "id": "30bfa865-a83f-4668-a64f-027ca8b71b1b",
   "metadata": {},
   "outputs": [],
   "source": [
    "model_list = [\n",
    "    ('elastic_net', ElasticNetCV(n_alphas = 10, max_iter=1000, random_state = 42)),\n",
    "    ('svr', SVR()),\n",
    "    ('knn', KNeighborsRegressor()),\n",
    "    ('random_forest', RandomForestRegressor(random_state = 42)),\n",
    "    ('gbr', GradientBoostingRegressor(random_state = 42)),\n",
    "]\n",
    "\n",
    "scaler_list = [\n",
    "    ('no', Blank()),\n",
    "    ('standard', StandardScaler()),\n",
    "    ('robust', RobustScaler()),\n",
    "    ('quantile', QuantileTransformer(output_distribution='normal', random_state=42)),\n",
    "]\n",
    "\n",
    "age_transform_list = [\n",
    "    ('no', Blank()),\n",
    "    ('loglinear', LogLinearTransformer()),\n",
    "]"
   ]
  },
  {
   "cell_type": "markdown",
   "id": "d0b07ca2-190d-4ef6-9db7-633aff1f8e84",
   "metadata": {},
   "source": [
    "## Per-mark validation"
   ]
  },
  {
   "cell_type": "markdown",
   "id": "87cb2fa0-ca89-4de5-a637-60788d347e6d",
   "metadata": {},
   "source": [
    "#### H3K4me3"
   ]
  },
  {
   "cell_type": "code",
   "execution_count": 11,
   "id": "809936d5-3549-448f-89fe-a65429f058c4",
   "metadata": {},
   "outputs": [
    {
     "name": "stderr",
     "output_type": "stream",
     "text": [
      "Progress: 100%[|||||||||||||||||||||||||||||||||||||||||||||||||||||||||||||||||||||||||||||||||||||||||||||||||||||||||||||||||||||||||||||||||||||||||||||||||||||||||||||||||||||||||||||] Time: 6:56:36 \n"
     ]
    }
   ],
   "source": [
    "results_H3K4me3 = validate_classical_models('H3K4me3', 'human', 'tissue', model_list, scaler_list, age_transform_list, folds = 10)"
   ]
  },
  {
   "cell_type": "markdown",
   "id": "0d92cad1-86df-4118-b40a-ed4b7f27a064",
   "metadata": {},
   "source": [
    "#### H3K27ac"
   ]
  },
  {
   "cell_type": "code",
   "execution_count": 12,
   "id": "aaf42ded-9bd4-41bc-a12d-86061a5f94e7",
   "metadata": {},
   "outputs": [
    {
     "name": "stderr",
     "output_type": "stream",
     "text": [
      "Progress: 100%[|||||||||||||||||||||||||||||||||||||||||||||||||||||||||||||||||||||||||||||||||||||||||||||||||||||||||||||||||||||||||||||||||||||||||||||||||||||||||||||||||||||||||||||] Time: 7:05:07 \n"
     ]
    }
   ],
   "source": [
    "results_H3K27ac = validate_classical_models('H3K27ac', 'human', 'tissue', model_list, scaler_list, age_transform_list, folds = 10)"
   ]
  },
  {
   "cell_type": "markdown",
   "id": "1877c789-c345-41cb-8b74-5bdfd7e90812",
   "metadata": {},
   "source": [
    "#### H3K4me1"
   ]
  },
  {
   "cell_type": "code",
   "execution_count": 13,
   "id": "88405302-c383-47b4-83c1-29096d104f50",
   "metadata": {},
   "outputs": [
    {
     "name": "stderr",
     "output_type": "stream",
     "text": [
      "Progress: 100%[|||||||||||||||||||||||||||||||||||||||||||||||||||||||||||||||||||||||||||||||||||||||||||||||||||||||||||||||||||||||||||||||||||||||||||||||||||||||||||||||||||||||||||||] Time: 6:26:58 \n"
     ]
    }
   ],
   "source": [
    "results_H3K4me1 = validate_classical_models('H3K4me1', 'human', 'tissue', model_list, scaler_list, age_transform_list, folds = 10)"
   ]
  },
  {
   "cell_type": "markdown",
   "id": "47ed0b7e-d0c8-49be-ba12-ae688f06f9d9",
   "metadata": {},
   "source": [
    "#### H3K9me3"
   ]
  },
  {
   "cell_type": "code",
   "execution_count": 14,
   "id": "69e3f59d-19f4-42b8-819a-f2c970721150",
   "metadata": {},
   "outputs": [
    {
     "name": "stderr",
     "output_type": "stream",
     "text": [
      "Progress: 100%[|||||||||||||||||||||||||||||||||||||||||||||||||||||||||||||||||||||||||||||||||||||||||||||||||||||||||||||||||||||||||||||||||||||||||||||||||||||||||||||||||||||||||||||] Time: 6:15:30 \n"
     ]
    }
   ],
   "source": [
    "results_H3K9me3 = validate_classical_models('H3K9me3', 'human', 'tissue', model_list, scaler_list, age_transform_list, folds = 10)"
   ]
  },
  {
   "cell_type": "markdown",
   "id": "adb98938-7974-4233-beea-a08497009316",
   "metadata": {},
   "source": [
    "#### H3K27me3"
   ]
  },
  {
   "cell_type": "code",
   "execution_count": 15,
   "id": "3c8810b9-9541-421e-ad4f-37d4289d0d68",
   "metadata": {},
   "outputs": [
    {
     "name": "stderr",
     "output_type": "stream",
     "text": [
      "Progress: 100%[|||||||||||||||||||||||||||||||||||||||||||||||||||||||||||||||||||||||||||||||||||||||||||||||||||||||||||||||||||||||||||||||||||||||||||||||||||||||||||||||||||||||||||||] Time: 6:18:10 \n"
     ]
    }
   ],
   "source": [
    "results_H3K27me3 = validate_classical_models('H3K27me3', 'human', 'tissue', model_list, scaler_list, age_transform_list, folds = 10)"
   ]
  },
  {
   "cell_type": "markdown",
   "id": "335de2a1-377c-4afa-a9e2-679f03728afc",
   "metadata": {},
   "source": [
    "#### H3K36me3"
   ]
  },
  {
   "cell_type": "code",
   "execution_count": 57,
   "id": "e07168a8-ad13-490f-8065-f2a64c66637d",
   "metadata": {},
   "outputs": [
    {
     "name": "stderr",
     "output_type": "stream",
     "text": [
      "Progress: 100%[|||||||||||||||||||||||||||||||||||||||||||||||||||||||||||||||||||||||||||||||||||||||||||||||||||||||||||||||||||||||||||||||||||||||||||||||||||||||||||||||||||||||||||||] Time: 6:10:17 \n"
     ]
    }
   ],
   "source": [
    "results_H3K36me3 = validate_classical_models('H3K36me3', 'human', 'tissue', model_list, scaler_list, age_transform_list, folds = 10)"
   ]
  },
  {
   "cell_type": "code",
   "execution_count": null,
   "id": "524acaae-c760-406d-bb9a-bda065de9d09",
   "metadata": {},
   "outputs": [],
   "source": []
  },
  {
   "cell_type": "code",
   "execution_count": null,
   "id": "2c766675-0708-444c-ae9d-073332082c72",
   "metadata": {},
   "outputs": [],
   "source": []
  },
  {
   "cell_type": "code",
   "execution_count": 35,
   "id": "4f5cd4a2-f224-45aa-be63-b69b7f15be1c",
   "metadata": {},
   "outputs": [],
   "source": [
    "histone_data_object = pickle.load(open('histone_data/human/tissue/H3K4me3/processed_data/H3K4me3_mean.pkl', 'rb'))"
   ]
  },
  {
   "cell_type": "code",
   "execution_count": 38,
   "id": "c05c681a-070a-4734-ac15-af869d5fb699",
   "metadata": {},
   "outputs": [],
   "source": [
    "metadata = pd.read_pickle('histone_metadata/human/tissue/metadata_summary.pkl') \n",
    "\n",
    "#ensures both X and y have same samples\n",
    "X = histone_data_object.df\n",
    "samples = np.intersect1d(X.index, metadata.index)\n",
    "y = metadata.loc[samples].age\n",
    "X = X.loc[y.index]"
   ]
  },
  {
   "cell_type": "code",
   "execution_count": null,
   "id": "37ec79dc-1610-49a7-a6e7-f1a071e26495",
   "metadata": {},
   "outputs": [],
   "source": [
    "inputShape = (height, width, depth)\n",
    "\tchanDim = -1\n",
    "\t# define the model input and first CONV module\n",
    "\tinputs = Input(shape=inputShape)\n",
    "\tx = conv_module(inputs, 96, 3, 3, (1, 1), chanDim)\n",
    "\t# two Inception modules followed by a downsample module\n",
    "\tx = inception_module(x, 32, 32, chanDim)\n",
    "\tx = inception_module(x, 32, 48, chanDim)\n",
    "\tx = downsample_module(x, 80, chanDim)\n",
    "\t# four Inception modules followed by a downsample module\n",
    "\tx = inception_module(x, 112, 48, chanDim)\n",
    "\tx = inception_module(x, 96, 64, chanDim)\n",
    "\tx = inception_module(x, 80, 80, chanDim)\n",
    "\tx = inception_module(x, 48, 96, chanDim)\n",
    "\tx = downsample_module(x, 96, chanDim)\n",
    "\t# two Inception modules followed by global POOL and dropout\n",
    "\tx = inception_module(x, 176, 160, chanDim)\n",
    "\tx = inception_module(x, 176, 160, chanDim)\n",
    "\tx = AveragePooling2D((7, 7))(x)\n",
    "\tx = Dropout(0.5)(x)\n",
    "\t# softmax classifier\n",
    "\tx = Flatten()(x)\n",
    "\tx = Dense(classes)(x)\n",
    "\tx = Activation(\"softmax\")(x)\n",
    "\t# create the model\n",
    "\tmodel = Model(inputs, x, name=\"minigooglenet\")"
   ]
  },
  {
   "cell_type": "code",
   "execution_count": 67,
   "id": "ecac5536-3ea7-46f1-9e12-c14b52abdc4a",
   "metadata": {},
   "outputs": [],
   "source": [
    "#create neural network with adjustable parameters\n",
    "def create_nn(hidden_layers = 3, lr = 0.0001, coeff = 0.01, dropout = 0.1):\n",
    "    \n",
    "    inputs = Input(shape = (30321,))\n",
    "    x = BatchNormalization()(inputs)\n",
    "    x = ActivityRegularization(coeff, coeff)(x)\n",
    "    \n",
    "    for _ in range(hidden_layers-1):\n",
    "        x = Dense(64,activation = 'selu',\n",
    "                  kernel_regularizer = tf.keras.regularizers.l1_l2(coeff, coeff),\n",
    "                  activity_regularizer= tf.keras.regularizers.l1_l2(coeff, coeff))(x)\n",
    "        x = BatchNormalization()(x)\n",
    "        x = Dropout(dropout)(x)\n",
    "        \n",
    "    x = Dense(64,activation = 'selu',\n",
    "              kernel_regularizer = tf.keras.regularizers.l1_l2(coeff, coeff),\n",
    "              activity_regularizer= tf.keras.regularizers.l1_l2(coeff, coeff))(x)\n",
    "    x = Dense(1)(x)\n",
    "    \n",
    "    model = Model(inputs, x)\n",
    "    \n",
    "    optimizer = tf.keras.optimizers.Adam(learning_rate=lr)\n",
    "    model.compile(optimizer=optimizer, loss= 'mse', metrics=['mae'])    \n",
    "\n",
    "    return model"
   ]
  },
  {
   "cell_type": "code",
   "execution_count": null,
   "id": "b91b1d5c-39ef-47e3-9a42-491babe91d86",
   "metadata": {},
   "outputs": [],
   "source": [
    "class MyModel(Model):\n",
    "  def __init__(self):\n",
    "    super(MyModel, self).__init__()\n",
    "    self.conv1 = Conv2D(32, 3, activation='relu')\n",
    "    self.flatten = Flatten()\n",
    "    self.d1 = Dense(128, activation='relu')\n",
    "    self.d2 = Dense(1)\n",
    "\n",
    "  def call(self, x):\n",
    "    x = self.conv1(x)\n",
    "    x = self.flatten(x)\n",
    "    x = self.d1(x)\n",
    "    return self.d2(x)"
   ]
  },
  {
   "cell_type": "code",
   "execution_count": null,
   "id": "d67ba632-42f5-40e7-a1cf-8cd0a38111d9",
   "metadata": {},
   "outputs": [],
   "source": [
    "neural_network = KerasRegressor(build_fn = create_nn, verbose = 0)\n",
    "\n",
    "scaler = StandardScaler()\n",
    "\n",
    "# create parameter grid, as usual, but note that you can\n",
    "# vary other model parameters such as 'epochs' (and others \n",
    "# such as 'batch_size' too)\n",
    "param_grid = {\n",
    "    'neural_network__epochs':[10,50],\n",
    "    'neural_network__hidden_layers':[1,3,5],\n",
    "    'neural_network__lr':[0.00001,0.00005, 0.001],\n",
    "    'neural_network__dropout':[0.0,0.1,0.5],\n",
    "    'neural_network__coeff':[0.005, 0.01, 0.05],\n",
    "}\n",
    "\n",
    "pipeline = Pipeline(steps = [('imputer', KNNImputer()), scaler, neural_network])\n",
    "\n",
    "# if you're not using a GPU, you can set n_jobs to something other than 1\n",
    "grid = GridSearchCV(pipeline, cv=3, param_grid=param_grid)\n",
    "grid.fit(X, y)\n",
    "\n",
    "# summarize results\n",
    "print(\"Best: %f using %s\" % (grid.best_score_, grid.best_params_))\n",
    "means = grid.cv_results_['mean_test_score']\n",
    "stds = grid.cv_results_['std_test_score']\n",
    "params = grid.cv_results_['params']"
   ]
  },
  {
   "cell_type": "code",
   "execution_count": null,
   "id": "71dfd142-ca3c-4c51-bbb3-13f7397de1a6",
   "metadata": {},
   "outputs": [],
   "source": []
  },
  {
   "cell_type": "code",
   "execution_count": null,
   "id": "2fc08366-9748-4198-ae39-975a518c7e74",
   "metadata": {},
   "outputs": [],
   "source": []
  },
  {
   "cell_type": "code",
   "execution_count": 61,
   "id": "4881a864-47eb-4706-8bc7-f884c4eccd35",
   "metadata": {},
   "outputs": [],
   "source": [
    "a = results_H3K36me3"
   ]
  },
  {
   "cell_type": "code",
   "execution_count": 62,
   "id": "3e5a429d-e6da-4d9f-a478-46a413100b4d",
   "metadata": {},
   "outputs": [
    {
     "name": "stderr",
     "output_type": "stream",
     "text": [
      "/var/folders/w4/lty89nlj5rv_r5hsn_ksvr1m0000gn/T/ipykernel_1055/1811449835.py:12: UserWarning: Matplotlib is currently using module://matplotlib_inline.backend_inline, which is a non-GUI backend, so cannot show the figure.\n",
      "  fig.show()\n"
     ]
    },
    {
     "data": {
      "image/png": "[encoded data removed]",
      "text/plain": [
       "<Figure size 1440x360 with 4 Axes>"
      ]
     },
     "metadata": {
      "needs_background": "light"
     },
     "output_type": "display_data"
    }
   ],
   "source": [
    "df = a\n",
    "df.Function = df.Function.apply(lambda x: str(x)[10:14])\n",
    "fig, axs = plt.subplots(1,4, tight_layout = True, figsize=(20,5))\n",
    "axs[0].set_title('Validation MSE')\n",
    "sns.boxplot(data = df, x = 'Model', y = 'Mean MSE', ax = axs[0], showfliers = False)\n",
    "axs[1].set_title('Validation MSE')\n",
    "sns.boxplot(data = df, x = 'Age Transform', y = 'Mean MSE', ax = axs[1], showfliers = False)\n",
    "axs[2].set_title('Validation MSE')\n",
    "sns.boxplot(data = df, x = 'Function', y = 'Mean MSE', ax = axs[2], showfliers = False)\n",
    "axs[3].set_title('Validation MSE')\n",
    "sns.boxplot(data = df, x = 'Scaler', y = 'Mean MSE', ax = axs[3], showfliers = False)\n",
    "fig.show()"
   ]
  },
  {
   "cell_type": "code",
   "execution_count": null,
   "id": "092dec5d-5bdb-46c6-a25d-7557739568ec",
   "metadata": {},
   "outputs": [],
   "source": []
  },
  {
   "cell_type": "code",
   "execution_count": null,
   "id": "1651d047-4d05-439e-92e9-fc6792edbde7",
   "metadata": {},
   "outputs": [],
   "source": []
  }
 ],
 "metadata": {
  "kernelspec": {
   "display_name": "Python 3 (ipykernel)",
   "language": "python",
   "name": "python3"
  },
  "language_info": {
   "codemirror_mode": {
    "name": "ipython",
    "version": 3
   },
   "file_extension": ".py",
   "mimetype": "text/x-python",
   "name": "python",
   "nbconvert_exporter": "python",
   "pygments_lexer": "ipython3",
   "version": "3.9.4"
  }
 },
 "nbformat": 4,
 "nbformat_minor": 5
}
